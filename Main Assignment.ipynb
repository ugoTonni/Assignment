{
 "cells": [
  {
   "cell_type": "code",
   "execution_count": 90,
   "id": "41e24ac3",
   "metadata": {},
   "outputs": [
    {
     "data": {
      "text/html": [
       "<div>\n",
       "<style scoped>\n",
       "    .dataframe tbody tr th:only-of-type {\n",
       "        vertical-align: middle;\n",
       "    }\n",
       "\n",
       "    .dataframe tbody tr th {\n",
       "        vertical-align: top;\n",
       "    }\n",
       "\n",
       "    .dataframe thead th {\n",
       "        text-align: right;\n",
       "    }\n",
       "</style>\n",
       "<table border=\"1\" class=\"dataframe\">\n",
       "  <thead>\n",
       "    <tr style=\"text-align: right;\">\n",
       "      <th></th>\n",
       "      <th>Unnamed: 0</th>\n",
       "      <th>House Number</th>\n",
       "      <th>Street</th>\n",
       "      <th>First Name</th>\n",
       "      <th>Surname</th>\n",
       "      <th>Age</th>\n",
       "      <th>Relationship to Head of House</th>\n",
       "      <th>Marital Status</th>\n",
       "      <th>Gender</th>\n",
       "      <th>Occupation</th>\n",
       "      <th>Infirmity</th>\n",
       "      <th>Religion</th>\n",
       "    </tr>\n",
       "  </thead>\n",
       "  <tbody>\n",
       "    <tr>\n",
       "      <th>0</th>\n",
       "      <td>0</td>\n",
       "      <td>1</td>\n",
       "      <td>Forgotten Gardens</td>\n",
       "      <td>Laura</td>\n",
       "      <td>White</td>\n",
       "      <td>56</td>\n",
       "      <td>Head</td>\n",
       "      <td>Married</td>\n",
       "      <td>Female</td>\n",
       "      <td>Unemployed</td>\n",
       "      <td>None</td>\n",
       "      <td>Christian</td>\n",
       "    </tr>\n",
       "    <tr>\n",
       "      <th>1</th>\n",
       "      <td>1</td>\n",
       "      <td>1</td>\n",
       "      <td>Forgotten Gardens</td>\n",
       "      <td>Elliot</td>\n",
       "      <td>White</td>\n",
       "      <td>57</td>\n",
       "      <td>Husband</td>\n",
       "      <td>Married</td>\n",
       "      <td>Male</td>\n",
       "      <td>Education officer, community</td>\n",
       "      <td>None</td>\n",
       "      <td>Christian</td>\n",
       "    </tr>\n",
       "    <tr>\n",
       "      <th>2</th>\n",
       "      <td>2</td>\n",
       "      <td>1</td>\n",
       "      <td>Forgotten Gardens</td>\n",
       "      <td>Nicole</td>\n",
       "      <td>White</td>\n",
       "      <td>15</td>\n",
       "      <td>Daughter</td>\n",
       "      <td>NaN</td>\n",
       "      <td>Female</td>\n",
       "      <td>Student</td>\n",
       "      <td>None</td>\n",
       "      <td>NaN</td>\n",
       "    </tr>\n",
       "    <tr>\n",
       "      <th>3</th>\n",
       "      <td>3</td>\n",
       "      <td>2</td>\n",
       "      <td>Forgotten Gardens</td>\n",
       "      <td>Michelle</td>\n",
       "      <td>John</td>\n",
       "      <td>44</td>\n",
       "      <td>Head</td>\n",
       "      <td>Divorced</td>\n",
       "      <td>Female</td>\n",
       "      <td>Administrator, arts</td>\n",
       "      <td>None</td>\n",
       "      <td>Christian</td>\n",
       "    </tr>\n",
       "    <tr>\n",
       "      <th>4</th>\n",
       "      <td>4</td>\n",
       "      <td>2</td>\n",
       "      <td>Forgotten Gardens</td>\n",
       "      <td>Jeffrey</td>\n",
       "      <td>John</td>\n",
       "      <td>9</td>\n",
       "      <td>Son</td>\n",
       "      <td>NaN</td>\n",
       "      <td>Male</td>\n",
       "      <td>Student</td>\n",
       "      <td>None</td>\n",
       "      <td>NaN</td>\n",
       "    </tr>\n",
       "    <tr>\n",
       "      <th>...</th>\n",
       "      <td>...</td>\n",
       "      <td>...</td>\n",
       "      <td>...</td>\n",
       "      <td>...</td>\n",
       "      <td>...</td>\n",
       "      <td>...</td>\n",
       "      <td>...</td>\n",
       "      <td>...</td>\n",
       "      <td>...</td>\n",
       "      <td>...</td>\n",
       "      <td>...</td>\n",
       "      <td>...</td>\n",
       "    </tr>\n",
       "    <tr>\n",
       "      <th>7768</th>\n",
       "      <td>7768</td>\n",
       "      <td>1</td>\n",
       "      <td>Fletcher Farmhouse</td>\n",
       "      <td>Beverley</td>\n",
       "      <td>Hudson</td>\n",
       "      <td>30</td>\n",
       "      <td>Head</td>\n",
       "      <td>Divorced</td>\n",
       "      <td>Female</td>\n",
       "      <td>Research officer, trade union</td>\n",
       "      <td>None</td>\n",
       "      <td>Christian</td>\n",
       "    </tr>\n",
       "    <tr>\n",
       "      <th>7769</th>\n",
       "      <td>7769</td>\n",
       "      <td>1</td>\n",
       "      <td>Fletcher Farmhouse</td>\n",
       "      <td>Rachael</td>\n",
       "      <td>Hudson</td>\n",
       "      <td>0</td>\n",
       "      <td>Daughter</td>\n",
       "      <td>NaN</td>\n",
       "      <td>Female</td>\n",
       "      <td>Child</td>\n",
       "      <td>None</td>\n",
       "      <td>NaN</td>\n",
       "    </tr>\n",
       "    <tr>\n",
       "      <th>7770</th>\n",
       "      <td>7770</td>\n",
       "      <td>1</td>\n",
       "      <td>Fletcher Farmhouse</td>\n",
       "      <td>Stephen</td>\n",
       "      <td>Shepherd</td>\n",
       "      <td>54</td>\n",
       "      <td>Sibling</td>\n",
       "      <td>Divorced</td>\n",
       "      <td>Male</td>\n",
       "      <td>Accountant, chartered public finance</td>\n",
       "      <td>None</td>\n",
       "      <td>None</td>\n",
       "    </tr>\n",
       "    <tr>\n",
       "      <th>7771</th>\n",
       "      <td>7771</td>\n",
       "      <td>1</td>\n",
       "      <td>Fletcher Farmhouse</td>\n",
       "      <td>William</td>\n",
       "      <td>French</td>\n",
       "      <td>48</td>\n",
       "      <td>Lodger</td>\n",
       "      <td>Single</td>\n",
       "      <td>Male</td>\n",
       "      <td>Unemployed</td>\n",
       "      <td>None</td>\n",
       "      <td>Christian</td>\n",
       "    </tr>\n",
       "    <tr>\n",
       "      <th>7772</th>\n",
       "      <td>7772</td>\n",
       "      <td>1</td>\n",
       "      <td>Fletcher Farmhouse</td>\n",
       "      <td>Deborah</td>\n",
       "      <td>Yates</td>\n",
       "      <td>34</td>\n",
       "      <td>Lodger</td>\n",
       "      <td>Single</td>\n",
       "      <td>Female</td>\n",
       "      <td>Geographical information systems officer</td>\n",
       "      <td>None</td>\n",
       "      <td>None</td>\n",
       "    </tr>\n",
       "  </tbody>\n",
       "</table>\n",
       "<p>7773 rows × 12 columns</p>\n",
       "</div>"
      ],
      "text/plain": [
       "      Unnamed: 0 House Number              Street First Name   Surname Age  \\\n",
       "0              0            1   Forgotten Gardens      Laura     White  56   \n",
       "1              1            1   Forgotten Gardens     Elliot     White  57   \n",
       "2              2            1   Forgotten Gardens     Nicole     White  15   \n",
       "3              3            2   Forgotten Gardens   Michelle      John  44   \n",
       "4              4            2   Forgotten Gardens    Jeffrey      John   9   \n",
       "...          ...          ...                 ...        ...       ...  ..   \n",
       "7768        7768            1  Fletcher Farmhouse   Beverley    Hudson  30   \n",
       "7769        7769            1  Fletcher Farmhouse    Rachael    Hudson   0   \n",
       "7770        7770            1  Fletcher Farmhouse    Stephen  Shepherd  54   \n",
       "7771        7771            1  Fletcher Farmhouse    William    French  48   \n",
       "7772        7772            1  Fletcher Farmhouse    Deborah     Yates  34   \n",
       "\n",
       "     Relationship to Head of House Marital Status  Gender  \\\n",
       "0                             Head        Married  Female   \n",
       "1                          Husband        Married    Male   \n",
       "2                         Daughter            NaN  Female   \n",
       "3                             Head       Divorced  Female   \n",
       "4                              Son            NaN    Male   \n",
       "...                            ...            ...     ...   \n",
       "7768                          Head       Divorced  Female   \n",
       "7769                      Daughter            NaN  Female   \n",
       "7770                       Sibling       Divorced    Male   \n",
       "7771                        Lodger         Single    Male   \n",
       "7772                        Lodger         Single  Female   \n",
       "\n",
       "                                    Occupation Infirmity   Religion  \n",
       "0                                   Unemployed      None  Christian  \n",
       "1                 Education officer, community      None  Christian  \n",
       "2                                      Student      None        NaN  \n",
       "3                          Administrator, arts      None  Christian  \n",
       "4                                      Student      None        NaN  \n",
       "...                                        ...       ...        ...  \n",
       "7768             Research officer, trade union      None  Christian  \n",
       "7769                                     Child      None        NaN  \n",
       "7770      Accountant, chartered public finance      None       None  \n",
       "7771                                Unemployed      None  Christian  \n",
       "7772  Geographical information systems officer      None       None  \n",
       "\n",
       "[7773 rows x 12 columns]"
      ]
     },
     "execution_count": 90,
     "metadata": {},
     "output_type": "execute_result"
    }
   ],
   "source": [
    "import pandas as pd\n",
    "import numpy as np\n",
    "import csv\n",
    "import matplotlib.pyplot as plt\n",
    "\n",
    "census = pd.read_csv('census_07_2022.csv')\n",
    "\n",
    "census"
   ]
  },
  {
   "cell_type": "code",
   "execution_count": 2,
   "id": "aa4d1c5b",
   "metadata": {},
   "outputs": [],
   "source": [
    "census = census.drop(\"Unnamed: 0\", axis = 1)"
   ]
  },
  {
   "cell_type": "code",
   "execution_count": 3,
   "id": "b6564dbf",
   "metadata": {},
   "outputs": [
    {
     "data": {
      "text/plain": [
       "House Number                        0\n",
       "Street                              0\n",
       "First Name                          0\n",
       "Surname                             0\n",
       "Age                                 0\n",
       "Relationship to Head of House       0\n",
       "Marital Status                   1813\n",
       "Gender                              0\n",
       "Occupation                          0\n",
       "Infirmity                           0\n",
       "Religion                         1863\n",
       "dtype: int64"
      ]
     },
     "execution_count": 3,
     "metadata": {},
     "output_type": "execute_result"
    }
   ],
   "source": [
    "census.isnull().sum()"
   ]
  },
  {
   "cell_type": "code",
   "execution_count": 4,
   "id": "ddebcaa0",
   "metadata": {},
   "outputs": [
    {
     "name": "stdout",
     "output_type": "stream",
     "text": [
      "<class 'pandas.core.frame.DataFrame'>\n",
      "RangeIndex: 7773 entries, 0 to 7772\n",
      "Data columns (total 11 columns):\n",
      " #   Column                         Non-Null Count  Dtype \n",
      "---  ------                         --------------  ----- \n",
      " 0   House Number                   7773 non-null   object\n",
      " 1   Street                         7773 non-null   object\n",
      " 2   First Name                     7773 non-null   object\n",
      " 3   Surname                        7773 non-null   object\n",
      " 4   Age                            7773 non-null   object\n",
      " 5   Relationship to Head of House  7773 non-null   object\n",
      " 6   Marital Status                 5960 non-null   object\n",
      " 7   Gender                         7773 non-null   object\n",
      " 8   Occupation                     7773 non-null   object\n",
      " 9   Infirmity                      7773 non-null   object\n",
      " 10  Religion                       5910 non-null   object\n",
      "dtypes: object(11)\n",
      "memory usage: 668.1+ KB\n"
     ]
    }
   ],
   "source": [
    "census.info()"
   ]
  },
  {
   "cell_type": "markdown",
   "id": "d20f3fd8",
   "metadata": {},
   "source": [
    "# Marital status has blank or missing values\n",
    "## Age is showing as an object instead of integer \n",
    "## Religion has missing values "
   ]
  },
  {
   "cell_type": "code",
   "execution_count": 5,
   "id": "72c6a05d",
   "metadata": {},
   "outputs": [],
   "source": [
    "Age = census['Age']\n",
    "Religion = census['Religion']\n",
    "Marital_Status = census['Marital Status']\n",
    "Gender = census['Gender']\n",
    "Occupation = census['Occupation']\n",
    "Infirmity = census['Infirmity']\n",
    "House_Number =  census['House Number']\n",
    "\n",
    "Unique_Age = Age.unique()\n",
    "Unique_Religion = Religion.unique()\n",
    "Unique_Marital_Status = Marital_Status.unique()\n",
    "Unique_Gender = Gender.unique()\n",
    "Unique_Occupation = Occupation.unique()\n",
    "Unique_Infirmity = Infirmity.unique()"
   ]
  },
  {
   "cell_type": "code",
   "execution_count": 6,
   "id": "f60b01b4",
   "metadata": {},
   "outputs": [
    {
     "name": "stdout",
     "output_type": "stream",
     "text": [
      "['56' '57' '15' '44' '9' '72' '38' '5' '3' '41' '13' '73' '45' '36' '51'\n",
      " '23' '33' '4' '0' '30' '6' '2' '21' '28' '27' '83' '85' '19' '40' '16'\n",
      " '89' '65' '47' '20' '68' '66' '37' '32' '14' '10' '86' '69' '58' '22'\n",
      " '59' '63' '46' '39' '53' '42' '12' '8' '1' '24' '50' '26' '70' '54' '43'\n",
      " '60' '18' '11' '29' '76' '64' '34' '52' '35' '7' '48' '25' '75' '79' '71'\n",
      " '17' '49' '55' '74' '78' '31' '62' '67' '61' '72.38784457' '74.38784457'\n",
      " '84' '88' '80' '77' '81' '87' '101' '104' '82' '91' '102' '97' '90' '96'\n",
      " '98' '93' '103' '80.57582061' '77.57582061' '7.11E-15' '92' '105' '94'\n",
      " ' ' '99']\n"
     ]
    }
   ],
   "source": [
    "print(Unique_Age)"
   ]
  },
  {
   "cell_type": "code",
   "execution_count": 7,
   "id": "ed6992c9",
   "metadata": {},
   "outputs": [
    {
     "name": "stdout",
     "output_type": "stream",
     "text": [
      "['Christian' nan 'None' 'Catholic' 'Methodist' 'Muslim' 'Jewish' 'Sikh'\n",
      " 'Buddist' 'Bahai' 'Sith' 'Private' 'Baptist' ' ' 'Orthodoxy']\n"
     ]
    }
   ],
   "source": [
    "print(Unique_Religion)"
   ]
  },
  {
   "cell_type": "code",
   "execution_count": 8,
   "id": "f9a5c9be",
   "metadata": {},
   "outputs": [
    {
     "name": "stdout",
     "output_type": "stream",
     "text": [
      "['Married' nan 'Divorced' 'Widowed' 'Single' 'M' 'D' ' ' 'S' 'W']\n"
     ]
    }
   ],
   "source": [
    "print(Unique_Marital_Status)"
   ]
  },
  {
   "cell_type": "code",
   "execution_count": 9,
   "id": "15e31170",
   "metadata": {},
   "outputs": [
    {
     "data": {
      "text/plain": [
       "array(['Christian', nan, 'None', 'Catholic', 'Methodist', 'Muslim',\n",
       "       'Jewish', 'Sikh', 'Buddist', 'Bahai', 'Sith', 'Private', 'Baptist',\n",
       "       ' ', 'Orthodoxy'], dtype=object)"
      ]
     },
     "execution_count": 9,
     "metadata": {},
     "output_type": "execute_result"
    }
   ],
   "source": [
    "Unique_Religion"
   ]
  },
  {
   "cell_type": "code",
   "execution_count": 10,
   "id": "fd704ae4",
   "metadata": {},
   "outputs": [
    {
     "name": "stdout",
     "output_type": "stream",
     "text": [
      "['Female' 'Male' 'female' 'M' 'm' 'f' 'F' 'male' ' ']\n"
     ]
    }
   ],
   "source": [
    "print(Unique_Gender)"
   ]
  },
  {
   "cell_type": "code",
   "execution_count": 11,
   "id": "516cf620",
   "metadata": {},
   "outputs": [
    {
     "name": "stdout",
     "output_type": "stream",
     "text": [
      "['Unemployed' 'Education officer, community' 'Student' ...\n",
      " 'Retired Civil Service administrator'\n",
      " 'Retired Research officer, government'\n",
      " 'Retired Consulting civil engineer']\n"
     ]
    }
   ],
   "source": [
    "print(Unique_Occupation)"
   ]
  },
  {
   "cell_type": "code",
   "execution_count": 12,
   "id": "ef71088d",
   "metadata": {},
   "outputs": [
    {
     "name": "stdout",
     "output_type": "stream",
     "text": [
      "['None' 'Unknown Infection' 'Blind' 'Disabled' ' ' 'Mental Disability'\n",
      " 'Physical Disability' 'Deaf']\n"
     ]
    }
   ],
   "source": [
    "print(Unique_Infirmity)"
   ]
  },
  {
   "cell_type": "markdown",
   "id": "b7913c26",
   "metadata": {},
   "source": [
    "## Start of the data clean up for the age "
   ]
  },
  {
   "cell_type": "code",
   "execution_count": 106,
   "id": "a2d10ddf",
   "metadata": {},
   "outputs": [
    {
     "name": "stdout",
     "output_type": "stream",
     "text": [
      "Int64Index([5998], dtype='int64')\n"
     ]
    }
   ],
   "source": [
    "# Get the row number of value based on column\n",
    "row_num = census[census['Age'] == ' '].index\n",
    "print(row_num)"
   ]
  },
  {
   "cell_type": "code",
   "execution_count": 107,
   "id": "b675e22f",
   "metadata": {},
   "outputs": [
    {
     "data": {
      "text/html": [
       "<div>\n",
       "<style scoped>\n",
       "    .dataframe tbody tr th:only-of-type {\n",
       "        vertical-align: middle;\n",
       "    }\n",
       "\n",
       "    .dataframe tbody tr th {\n",
       "        vertical-align: top;\n",
       "    }\n",
       "\n",
       "    .dataframe thead th {\n",
       "        text-align: right;\n",
       "    }\n",
       "</style>\n",
       "<table border=\"1\" class=\"dataframe\">\n",
       "  <thead>\n",
       "    <tr style=\"text-align: right;\">\n",
       "      <th></th>\n",
       "      <th>Unnamed: 0</th>\n",
       "      <th>House Number</th>\n",
       "      <th>Street</th>\n",
       "      <th>First Name</th>\n",
       "      <th>Surname</th>\n",
       "      <th>Age</th>\n",
       "      <th>Relationship to Head of House</th>\n",
       "      <th>Marital Status</th>\n",
       "      <th>Gender</th>\n",
       "      <th>Occupation</th>\n",
       "      <th>Infirmity</th>\n",
       "      <th>Religion</th>\n",
       "    </tr>\n",
       "  </thead>\n",
       "  <tbody>\n",
       "    <tr>\n",
       "      <th>5998</th>\n",
       "      <td>5998</td>\n",
       "      <td>40</td>\n",
       "      <td>Skylock Curve</td>\n",
       "      <td>Jodie</td>\n",
       "      <td>Clarke</td>\n",
       "      <td></td>\n",
       "      <td>Daughter</td>\n",
       "      <td>NaN</td>\n",
       "      <td>Female</td>\n",
       "      <td>Child</td>\n",
       "      <td>None</td>\n",
       "      <td>NaN</td>\n",
       "    </tr>\n",
       "  </tbody>\n",
       "</table>\n",
       "</div>"
      ],
      "text/plain": [
       "      Unnamed: 0 House Number         Street First Name Surname Age  \\\n",
       "5998        5998           40  Skylock Curve      Jodie  Clarke       \n",
       "\n",
       "     Relationship to Head of House Marital Status  Gender Occupation  \\\n",
       "5998                      Daughter            NaN  Female      Child   \n",
       "\n",
       "     Infirmity Religion  \n",
       "5998      None      NaN  "
      ]
     },
     "execution_count": 107,
     "metadata": {},
     "output_type": "execute_result"
    }
   ],
   "source": [
    "#This gets the row where the cell belongs\n",
    "census.loc[[5998]]"
   ]
  },
  {
   "cell_type": "code",
   "execution_count": 108,
   "id": "b18c9051",
   "metadata": {},
   "outputs": [],
   "source": [
    "census.at[5998, 'Age'] = '0'"
   ]
  },
  {
   "cell_type": "code",
   "execution_count": 109,
   "id": "c3a2d7f9",
   "metadata": {},
   "outputs": [
    {
     "data": {
      "text/plain": [
       "'0'"
      ]
     },
     "execution_count": 109,
     "metadata": {},
     "output_type": "execute_result"
    }
   ],
   "source": [
    "census['Age'][5998]"
   ]
  },
  {
   "cell_type": "code",
   "execution_count": 110,
   "id": "fb69e5b9",
   "metadata": {},
   "outputs": [
    {
     "data": {
      "text/plain": [
       "False"
      ]
     },
     "execution_count": 110,
     "metadata": {},
     "output_type": "execute_result"
    }
   ],
   "source": [
    "census['Age'].isnull().values.any()"
   ]
  },
  {
   "cell_type": "code",
   "execution_count": 111,
   "id": "2d3187c7",
   "metadata": {},
   "outputs": [],
   "source": [
    "# census['Age'] = pd.to_numeric(census['Age'], downcast='integer')"
   ]
  },
  {
   "cell_type": "code",
   "execution_count": 112,
   "id": "62bc13cd",
   "metadata": {},
   "outputs": [
    {
     "name": "stdout",
     "output_type": "stream",
     "text": [
      "<class 'pandas.core.series.Series'>\n",
      "RangeIndex: 7773 entries, 0 to 7772\n",
      "Series name: Age\n",
      "Non-Null Count  Dtype \n",
      "--------------  ----- \n",
      "7773 non-null   object\n",
      "dtypes: object(1)\n",
      "memory usage: 60.9+ KB\n"
     ]
    }
   ],
   "source": [
    "census['Age'].info()"
   ]
  },
  {
   "cell_type": "code",
   "execution_count": 113,
   "id": "2692dadd",
   "metadata": {},
   "outputs": [],
   "source": [
    "# df = census.astype({\"Age\": int})"
   ]
  },
  {
   "cell_type": "code",
   "execution_count": 114,
   "id": "84fb051f",
   "metadata": {},
   "outputs": [
    {
     "name": "stdout",
     "output_type": "stream",
     "text": [
      "<class 'pandas.core.series.Series'>\n",
      "RangeIndex: 7773 entries, 0 to 7772\n",
      "Series name: Age\n",
      "Non-Null Count  Dtype\n",
      "--------------  -----\n",
      "7773 non-null   int64\n",
      "dtypes: int64(1)\n",
      "memory usage: 60.9 KB\n"
     ]
    }
   ],
   "source": [
    "census['Age'] = pd.to_numeric(census['Age'], errors='coerce').astype(np.int64)\n",
    "\n",
    "\n",
    "census['Age'].info()"
   ]
  },
  {
   "cell_type": "code",
   "execution_count": 115,
   "id": "d35f5dfb",
   "metadata": {},
   "outputs": [
    {
     "data": {
      "text/plain": [
       "array([ 56,  57,  15,  44,   9,  72,  38,   5,   3,  41,  13,  73,  45,\n",
       "        36,  51,  23,  33,   4,   0,  30,   6,   2,  21,  28,  27,  83,\n",
       "        85,  19,  40,  16,  89,  65,  47,  20,  68,  66,  37,  32,  14,\n",
       "        10,  86,  69,  58,  22,  59,  63,  46,  39,  53,  42,  12,   8,\n",
       "         1,  24,  50,  26,  70,  54,  43,  60,  18,  11,  29,  76,  64,\n",
       "        34,  52,  35,   7,  48,  25,  75,  79,  71,  17,  49,  55,  74,\n",
       "        78,  31,  62,  67,  61,  84,  88,  80,  77,  81,  87, 101, 104,\n",
       "        82,  91, 102,  97,  90,  96,  98,  93, 103,  92, 105,  94,  99])"
      ]
     },
     "execution_count": 115,
     "metadata": {},
     "output_type": "execute_result"
    }
   ],
   "source": [
    "census['Age'].unique()"
   ]
  },
  {
   "cell_type": "code",
   "execution_count": 116,
   "id": "edc001d2",
   "metadata": {},
   "outputs": [
    {
     "name": "stdout",
     "output_type": "stream",
     "text": [
      "<class 'pandas.core.frame.DataFrame'>\n",
      "RangeIndex: 7773 entries, 0 to 7772\n",
      "Data columns (total 12 columns):\n",
      " #   Column                         Non-Null Count  Dtype \n",
      "---  ------                         --------------  ----- \n",
      " 0   Unnamed: 0                     7773 non-null   int64 \n",
      " 1   House Number                   7773 non-null   object\n",
      " 2   Street                         7773 non-null   object\n",
      " 3   First Name                     7773 non-null   object\n",
      " 4   Surname                        7773 non-null   object\n",
      " 5   Age                            7773 non-null   int64 \n",
      " 6   Relationship to Head of House  7773 non-null   object\n",
      " 7   Marital Status                 5960 non-null   object\n",
      " 8   Gender                         7773 non-null   object\n",
      " 9   Occupation                     7773 non-null   object\n",
      " 10  Infirmity                      7773 non-null   object\n",
      " 11  Religion                       5910 non-null   object\n",
      "dtypes: int64(2), object(10)\n",
      "memory usage: 728.8+ KB\n"
     ]
    }
   ],
   "source": [
    "census.info()"
   ]
  },
  {
   "cell_type": "code",
   "execution_count": 117,
   "id": "b67e8d6d",
   "metadata": {},
   "outputs": [
    {
     "data": {
      "text/plain": [
       "count    7773.000000\n",
       "mean       36.501351\n",
       "std        21.837529\n",
       "min         0.000000\n",
       "25%        19.000000\n",
       "50%        36.000000\n",
       "75%        52.000000\n",
       "max       105.000000\n",
       "Name: Age, dtype: float64"
      ]
     },
     "execution_count": 117,
     "metadata": {},
     "output_type": "execute_result"
    }
   ],
   "source": [
    "census['Age'].describe()"
   ]
  },
  {
   "cell_type": "markdown",
   "id": "d88997bb",
   "metadata": {},
   "source": [
    "## Religion Cleanup"
   ]
  },
  {
   "cell_type": "code",
   "execution_count": 25,
   "id": "b093096d",
   "metadata": {},
   "outputs": [
    {
     "data": {
      "text/plain": [
       "array(['Christian', nan, 'None', 'Catholic', 'Methodist', 'Muslim',\n",
       "       'Jewish', 'Sikh', 'Buddist', 'Bahai', 'Sith', 'Private', 'Baptist',\n",
       "       ' ', 'Orthodoxy'], dtype=object)"
      ]
     },
     "execution_count": 25,
     "metadata": {},
     "output_type": "execute_result"
    }
   ],
   "source": [
    "census['Religion'].unique()"
   ]
  },
  {
   "cell_type": "code",
   "execution_count": 26,
   "id": "50d43248",
   "metadata": {},
   "outputs": [
    {
     "name": "stdout",
     "output_type": "stream",
     "text": [
      "Int64Index([6389, 6902, 7260], dtype='int64')\n"
     ]
    }
   ],
   "source": [
    "rel_row_num = census[census['Religion'] == ' '].index\n",
    "print(rel_row_num)"
   ]
  },
  {
   "cell_type": "code",
   "execution_count": 27,
   "id": "8b226562",
   "metadata": {},
   "outputs": [
    {
     "data": {
      "text/html": [
       "<div>\n",
       "<style scoped>\n",
       "    .dataframe tbody tr th:only-of-type {\n",
       "        vertical-align: middle;\n",
       "    }\n",
       "\n",
       "    .dataframe tbody tr th {\n",
       "        vertical-align: top;\n",
       "    }\n",
       "\n",
       "    .dataframe thead th {\n",
       "        text-align: right;\n",
       "    }\n",
       "</style>\n",
       "<table border=\"1\" class=\"dataframe\">\n",
       "  <thead>\n",
       "    <tr style=\"text-align: right;\">\n",
       "      <th></th>\n",
       "      <th>House Number</th>\n",
       "      <th>Street</th>\n",
       "      <th>First Name</th>\n",
       "      <th>Surname</th>\n",
       "      <th>Age</th>\n",
       "      <th>Relationship to Head of House</th>\n",
       "      <th>Marital Status</th>\n",
       "      <th>Gender</th>\n",
       "      <th>Occupation</th>\n",
       "      <th>Infirmity</th>\n",
       "      <th>Religion</th>\n",
       "    </tr>\n",
       "  </thead>\n",
       "  <tbody>\n",
       "    <tr>\n",
       "      <th>6389</th>\n",
       "      <td>5</td>\n",
       "      <td>Wilkins Street</td>\n",
       "      <td>Catherine</td>\n",
       "      <td>Hargreaves</td>\n",
       "      <td>45</td>\n",
       "      <td>Head</td>\n",
       "      <td>Divorced</td>\n",
       "      <td>female</td>\n",
       "      <td>Engineer, communications</td>\n",
       "      <td>None</td>\n",
       "      <td></td>\n",
       "    </tr>\n",
       "  </tbody>\n",
       "</table>\n",
       "</div>"
      ],
      "text/plain": [
       "     House Number          Street First Name     Surname  Age  \\\n",
       "6389            5  Wilkins Street  Catherine  Hargreaves   45   \n",
       "\n",
       "     Relationship to Head of House Marital Status  Gender  \\\n",
       "6389                          Head       Divorced  female   \n",
       "\n",
       "                    Occupation Infirmity Religion  \n",
       "6389  Engineer, communications      None           "
      ]
     },
     "execution_count": 27,
     "metadata": {},
     "output_type": "execute_result"
    }
   ],
   "source": [
    "census.loc[[6389]]"
   ]
  },
  {
   "cell_type": "code",
   "execution_count": 28,
   "id": "c424ffe0",
   "metadata": {},
   "outputs": [
    {
     "data": {
      "text/html": [
       "<div>\n",
       "<style scoped>\n",
       "    .dataframe tbody tr th:only-of-type {\n",
       "        vertical-align: middle;\n",
       "    }\n",
       "\n",
       "    .dataframe tbody tr th {\n",
       "        vertical-align: top;\n",
       "    }\n",
       "\n",
       "    .dataframe thead th {\n",
       "        text-align: right;\n",
       "    }\n",
       "</style>\n",
       "<table border=\"1\" class=\"dataframe\">\n",
       "  <thead>\n",
       "    <tr style=\"text-align: right;\">\n",
       "      <th></th>\n",
       "      <th>House Number</th>\n",
       "      <th>Street</th>\n",
       "      <th>First Name</th>\n",
       "      <th>Surname</th>\n",
       "      <th>Age</th>\n",
       "      <th>Relationship to Head of House</th>\n",
       "      <th>Marital Status</th>\n",
       "      <th>Gender</th>\n",
       "      <th>Occupation</th>\n",
       "      <th>Infirmity</th>\n",
       "      <th>Religion</th>\n",
       "    </tr>\n",
       "  </thead>\n",
       "  <tbody>\n",
       "    <tr>\n",
       "      <th>6389</th>\n",
       "      <td>5</td>\n",
       "      <td>Wilkins Street</td>\n",
       "      <td>Catherine</td>\n",
       "      <td>Hargreaves</td>\n",
       "      <td>45</td>\n",
       "      <td>Head</td>\n",
       "      <td>Divorced</td>\n",
       "      <td>female</td>\n",
       "      <td>Engineer, communications</td>\n",
       "      <td>None</td>\n",
       "      <td></td>\n",
       "    </tr>\n",
       "    <tr>\n",
       "      <th>6390</th>\n",
       "      <td>5</td>\n",
       "      <td>Wilkins Street</td>\n",
       "      <td>Lee</td>\n",
       "      <td>Hargreaves</td>\n",
       "      <td>3</td>\n",
       "      <td>Son</td>\n",
       "      <td>NaN</td>\n",
       "      <td>Male</td>\n",
       "      <td>Child</td>\n",
       "      <td>None</td>\n",
       "      <td>NaN</td>\n",
       "    </tr>\n",
       "  </tbody>\n",
       "</table>\n",
       "</div>"
      ],
      "text/plain": [
       "     House Number          Street First Name     Surname  Age  \\\n",
       "6389            5  Wilkins Street  Catherine  Hargreaves   45   \n",
       "6390            5  Wilkins Street        Lee  Hargreaves    3   \n",
       "\n",
       "     Relationship to Head of House Marital Status  Gender  \\\n",
       "6389                          Head       Divorced  female   \n",
       "6390                           Son            NaN    Male   \n",
       "\n",
       "                    Occupation Infirmity Religion  \n",
       "6389  Engineer, communications      None           \n",
       "6390                     Child      None      NaN  "
      ]
     },
     "execution_count": 28,
     "metadata": {},
     "output_type": "execute_result"
    }
   ],
   "source": [
    "census[(census['House Number'] == '5') & (census['Street'] == 'Wilkins Street') & (census['Surname'] == 'Hargreaves')]"
   ]
  },
  {
   "cell_type": "code",
   "execution_count": 29,
   "id": "ffd8b5cd",
   "metadata": {},
   "outputs": [],
   "source": [
    "census.at[6389, 'Religion'] = 'None'\n",
    "census.at[6390, 'Religion'] = 'None'"
   ]
  },
  {
   "cell_type": "code",
   "execution_count": 30,
   "id": "3b157e06",
   "metadata": {},
   "outputs": [
    {
     "data": {
      "text/html": [
       "<div>\n",
       "<style scoped>\n",
       "    .dataframe tbody tr th:only-of-type {\n",
       "        vertical-align: middle;\n",
       "    }\n",
       "\n",
       "    .dataframe tbody tr th {\n",
       "        vertical-align: top;\n",
       "    }\n",
       "\n",
       "    .dataframe thead th {\n",
       "        text-align: right;\n",
       "    }\n",
       "</style>\n",
       "<table border=\"1\" class=\"dataframe\">\n",
       "  <thead>\n",
       "    <tr style=\"text-align: right;\">\n",
       "      <th></th>\n",
       "      <th>House Number</th>\n",
       "      <th>Street</th>\n",
       "      <th>First Name</th>\n",
       "      <th>Surname</th>\n",
       "      <th>Age</th>\n",
       "      <th>Relationship to Head of House</th>\n",
       "      <th>Marital Status</th>\n",
       "      <th>Gender</th>\n",
       "      <th>Occupation</th>\n",
       "      <th>Infirmity</th>\n",
       "      <th>Religion</th>\n",
       "    </tr>\n",
       "  </thead>\n",
       "  <tbody>\n",
       "    <tr>\n",
       "      <th>6902</th>\n",
       "      <td>31</td>\n",
       "      <td>Cottingham Drive</td>\n",
       "      <td>Ellie</td>\n",
       "      <td>Newton</td>\n",
       "      <td>11</td>\n",
       "      <td>Daughter</td>\n",
       "      <td>NaN</td>\n",
       "      <td>Female</td>\n",
       "      <td>Student</td>\n",
       "      <td>None</td>\n",
       "      <td></td>\n",
       "    </tr>\n",
       "  </tbody>\n",
       "</table>\n",
       "</div>"
      ],
      "text/plain": [
       "     House Number            Street First Name Surname  Age  \\\n",
       "6902           31  Cottingham Drive      Ellie  Newton   11   \n",
       "\n",
       "     Relationship to Head of House Marital Status  Gender Occupation  \\\n",
       "6902                      Daughter            NaN  Female    Student   \n",
       "\n",
       "     Infirmity Religion  \n",
       "6902      None           "
      ]
     },
     "execution_count": 30,
     "metadata": {},
     "output_type": "execute_result"
    }
   ],
   "source": [
    "census.loc[[6902]]"
   ]
  },
  {
   "cell_type": "code",
   "execution_count": 31,
   "id": "dcc534ae",
   "metadata": {},
   "outputs": [
    {
     "data": {
      "text/html": [
       "<div>\n",
       "<style scoped>\n",
       "    .dataframe tbody tr th:only-of-type {\n",
       "        vertical-align: middle;\n",
       "    }\n",
       "\n",
       "    .dataframe tbody tr th {\n",
       "        vertical-align: top;\n",
       "    }\n",
       "\n",
       "    .dataframe thead th {\n",
       "        text-align: right;\n",
       "    }\n",
       "</style>\n",
       "<table border=\"1\" class=\"dataframe\">\n",
       "  <thead>\n",
       "    <tr style=\"text-align: right;\">\n",
       "      <th></th>\n",
       "      <th>House Number</th>\n",
       "      <th>Street</th>\n",
       "      <th>First Name</th>\n",
       "      <th>Surname</th>\n",
       "      <th>Age</th>\n",
       "      <th>Relationship to Head of House</th>\n",
       "      <th>Marital Status</th>\n",
       "      <th>Gender</th>\n",
       "      <th>Occupation</th>\n",
       "      <th>Infirmity</th>\n",
       "      <th>Religion</th>\n",
       "    </tr>\n",
       "  </thead>\n",
       "  <tbody>\n",
       "    <tr>\n",
       "      <th>6898</th>\n",
       "      <td>31</td>\n",
       "      <td>Cottingham Drive</td>\n",
       "      <td>Leigh</td>\n",
       "      <td>Newton</td>\n",
       "      <td>50</td>\n",
       "      <td>Head</td>\n",
       "      <td>Married</td>\n",
       "      <td>Male</td>\n",
       "      <td>Prison officer</td>\n",
       "      <td>None</td>\n",
       "      <td>Christian</td>\n",
       "    </tr>\n",
       "    <tr>\n",
       "      <th>6899</th>\n",
       "      <td>31</td>\n",
       "      <td>Cottingham Drive</td>\n",
       "      <td>Stephanie</td>\n",
       "      <td>Newton</td>\n",
       "      <td>48</td>\n",
       "      <td>Wife</td>\n",
       "      <td>Married</td>\n",
       "      <td>Female</td>\n",
       "      <td>Civil engineer, contracting</td>\n",
       "      <td>None</td>\n",
       "      <td>Christian</td>\n",
       "    </tr>\n",
       "    <tr>\n",
       "      <th>6900</th>\n",
       "      <td>31</td>\n",
       "      <td>Cottingham Drive</td>\n",
       "      <td>Anna</td>\n",
       "      <td>Newton</td>\n",
       "      <td>16</td>\n",
       "      <td>Daughter</td>\n",
       "      <td>NaN</td>\n",
       "      <td>Female</td>\n",
       "      <td>Student</td>\n",
       "      <td>None</td>\n",
       "      <td>NaN</td>\n",
       "    </tr>\n",
       "    <tr>\n",
       "      <th>6901</th>\n",
       "      <td>31</td>\n",
       "      <td>Cottingham Drive</td>\n",
       "      <td>Leonard</td>\n",
       "      <td>Newton</td>\n",
       "      <td>12</td>\n",
       "      <td>Son</td>\n",
       "      <td>NaN</td>\n",
       "      <td>Male</td>\n",
       "      <td>Student</td>\n",
       "      <td>None</td>\n",
       "      <td>NaN</td>\n",
       "    </tr>\n",
       "    <tr>\n",
       "      <th>6902</th>\n",
       "      <td>31</td>\n",
       "      <td>Cottingham Drive</td>\n",
       "      <td>Ellie</td>\n",
       "      <td>Newton</td>\n",
       "      <td>11</td>\n",
       "      <td>Daughter</td>\n",
       "      <td>NaN</td>\n",
       "      <td>Female</td>\n",
       "      <td>Student</td>\n",
       "      <td>None</td>\n",
       "      <td></td>\n",
       "    </tr>\n",
       "  </tbody>\n",
       "</table>\n",
       "</div>"
      ],
      "text/plain": [
       "     House Number            Street First Name Surname  Age  \\\n",
       "6898           31  Cottingham Drive      Leigh  Newton   50   \n",
       "6899           31  Cottingham Drive  Stephanie  Newton   48   \n",
       "6900           31  Cottingham Drive       Anna  Newton   16   \n",
       "6901           31  Cottingham Drive    Leonard  Newton   12   \n",
       "6902           31  Cottingham Drive      Ellie  Newton   11   \n",
       "\n",
       "     Relationship to Head of House Marital Status  Gender  \\\n",
       "6898                          Head        Married    Male   \n",
       "6899                          Wife        Married  Female   \n",
       "6900                      Daughter            NaN  Female   \n",
       "6901                           Son            NaN    Male   \n",
       "6902                      Daughter            NaN  Female   \n",
       "\n",
       "                       Occupation Infirmity   Religion  \n",
       "6898               Prison officer      None  Christian  \n",
       "6899  Civil engineer, contracting      None  Christian  \n",
       "6900                      Student      None        NaN  \n",
       "6901                      Student      None        NaN  \n",
       "6902                      Student      None             "
      ]
     },
     "execution_count": 31,
     "metadata": {},
     "output_type": "execute_result"
    }
   ],
   "source": [
    "census[(census['House Number'] == '31') & (census['Street'] == 'Cottingham Drive')]"
   ]
  },
  {
   "cell_type": "code",
   "execution_count": 32,
   "id": "ed2e5069",
   "metadata": {},
   "outputs": [
    {
     "data": {
      "text/plain": [
       "'None'"
      ]
     },
     "execution_count": 32,
     "metadata": {},
     "output_type": "execute_result"
    }
   ],
   "source": [
    "census.at[6902, 'Religion'] = 'None'\n",
    "census.at[6902, 'Religion']"
   ]
  },
  {
   "cell_type": "code",
   "execution_count": 33,
   "id": "3e0ba291",
   "metadata": {},
   "outputs": [
    {
     "data": {
      "text/html": [
       "<div>\n",
       "<style scoped>\n",
       "    .dataframe tbody tr th:only-of-type {\n",
       "        vertical-align: middle;\n",
       "    }\n",
       "\n",
       "    .dataframe tbody tr th {\n",
       "        vertical-align: top;\n",
       "    }\n",
       "\n",
       "    .dataframe thead th {\n",
       "        text-align: right;\n",
       "    }\n",
       "</style>\n",
       "<table border=\"1\" class=\"dataframe\">\n",
       "  <thead>\n",
       "    <tr style=\"text-align: right;\">\n",
       "      <th></th>\n",
       "      <th>House Number</th>\n",
       "      <th>Street</th>\n",
       "      <th>First Name</th>\n",
       "      <th>Surname</th>\n",
       "      <th>Age</th>\n",
       "      <th>Relationship to Head of House</th>\n",
       "      <th>Marital Status</th>\n",
       "      <th>Gender</th>\n",
       "      <th>Occupation</th>\n",
       "      <th>Infirmity</th>\n",
       "      <th>Religion</th>\n",
       "    </tr>\n",
       "  </thead>\n",
       "  <tbody>\n",
       "    <tr>\n",
       "      <th>7260</th>\n",
       "      <td>13</td>\n",
       "      <td>Monument Lodge</td>\n",
       "      <td>Brenda</td>\n",
       "      <td>Shaw</td>\n",
       "      <td>22</td>\n",
       "      <td>Daughter</td>\n",
       "      <td>Single</td>\n",
       "      <td>Female</td>\n",
       "      <td>University Student</td>\n",
       "      <td>None</td>\n",
       "      <td></td>\n",
       "    </tr>\n",
       "  </tbody>\n",
       "</table>\n",
       "</div>"
      ],
      "text/plain": [
       "     House Number          Street First Name Surname  Age  \\\n",
       "7260           13  Monument Lodge     Brenda    Shaw   22   \n",
       "\n",
       "     Relationship to Head of House Marital Status  Gender          Occupation  \\\n",
       "7260                      Daughter         Single  Female  University Student   \n",
       "\n",
       "     Infirmity Religion  \n",
       "7260      None           "
      ]
     },
     "execution_count": 33,
     "metadata": {},
     "output_type": "execute_result"
    }
   ],
   "source": [
    "census.loc[[7260]]"
   ]
  },
  {
   "cell_type": "code",
   "execution_count": 34,
   "id": "8871a7b5",
   "metadata": {},
   "outputs": [
    {
     "data": {
      "text/html": [
       "<div>\n",
       "<style scoped>\n",
       "    .dataframe tbody tr th:only-of-type {\n",
       "        vertical-align: middle;\n",
       "    }\n",
       "\n",
       "    .dataframe tbody tr th {\n",
       "        vertical-align: top;\n",
       "    }\n",
       "\n",
       "    .dataframe thead th {\n",
       "        text-align: right;\n",
       "    }\n",
       "</style>\n",
       "<table border=\"1\" class=\"dataframe\">\n",
       "  <thead>\n",
       "    <tr style=\"text-align: right;\">\n",
       "      <th></th>\n",
       "      <th>House Number</th>\n",
       "      <th>Street</th>\n",
       "      <th>First Name</th>\n",
       "      <th>Surname</th>\n",
       "      <th>Age</th>\n",
       "      <th>Relationship to Head of House</th>\n",
       "      <th>Marital Status</th>\n",
       "      <th>Gender</th>\n",
       "      <th>Occupation</th>\n",
       "      <th>Infirmity</th>\n",
       "      <th>Religion</th>\n",
       "    </tr>\n",
       "  </thead>\n",
       "  <tbody>\n",
       "    <tr>\n",
       "      <th>7259</th>\n",
       "      <td>13</td>\n",
       "      <td>Monument Lodge</td>\n",
       "      <td>Bruce</td>\n",
       "      <td>Shaw</td>\n",
       "      <td>53</td>\n",
       "      <td>Head</td>\n",
       "      <td>Divorced</td>\n",
       "      <td>Male</td>\n",
       "      <td>Corporate treasurer</td>\n",
       "      <td>None</td>\n",
       "      <td>Christian</td>\n",
       "    </tr>\n",
       "    <tr>\n",
       "      <th>7260</th>\n",
       "      <td>13</td>\n",
       "      <td>Monument Lodge</td>\n",
       "      <td>Brenda</td>\n",
       "      <td>Shaw</td>\n",
       "      <td>22</td>\n",
       "      <td>Daughter</td>\n",
       "      <td>Single</td>\n",
       "      <td>Female</td>\n",
       "      <td>University Student</td>\n",
       "      <td>None</td>\n",
       "      <td></td>\n",
       "    </tr>\n",
       "  </tbody>\n",
       "</table>\n",
       "</div>"
      ],
      "text/plain": [
       "     House Number          Street First Name Surname  Age  \\\n",
       "7259           13  Monument Lodge      Bruce    Shaw   53   \n",
       "7260           13  Monument Lodge     Brenda    Shaw   22   \n",
       "\n",
       "     Relationship to Head of House Marital Status  Gender  \\\n",
       "7259                          Head       Divorced    Male   \n",
       "7260                      Daughter         Single  Female   \n",
       "\n",
       "               Occupation Infirmity   Religion  \n",
       "7259  Corporate treasurer      None  Christian  \n",
       "7260   University Student      None             "
      ]
     },
     "execution_count": 34,
     "metadata": {},
     "output_type": "execute_result"
    }
   ],
   "source": [
    "census[(census['House Number'] == '13') & (census['Street'] == 'Monument Lodge')]"
   ]
  },
  {
   "cell_type": "code",
   "execution_count": 35,
   "id": "21f874fe",
   "metadata": {},
   "outputs": [
    {
     "data": {
      "text/plain": [
       "'None'"
      ]
     },
     "execution_count": 35,
     "metadata": {},
     "output_type": "execute_result"
    }
   ],
   "source": [
    "census.at[7260, 'Religion'] = 'None'\n",
    "census.at[7260, 'Religion'] "
   ]
  },
  {
   "cell_type": "code",
   "execution_count": 36,
   "id": "d998b632",
   "metadata": {},
   "outputs": [
    {
     "data": {
      "text/plain": [
       "array(['Christian', nan, 'None', 'Catholic', 'Methodist', 'Muslim',\n",
       "       'Jewish', 'Sikh', 'Buddist', 'Bahai', 'Sith', 'Private', 'Baptist',\n",
       "       'Orthodoxy'], dtype=object)"
      ]
     },
     "execution_count": 36,
     "metadata": {},
     "output_type": "execute_result"
    }
   ],
   "source": [
    "census['Religion'].unique()"
   ]
  },
  {
   "cell_type": "code",
   "execution_count": 37,
   "id": "c65bc0c7",
   "metadata": {},
   "outputs": [],
   "source": [
    "census['Religion'].fillna('None', inplace = True)"
   ]
  },
  {
   "cell_type": "code",
   "execution_count": 38,
   "id": "df2fd2c8",
   "metadata": {},
   "outputs": [
    {
     "data": {
      "text/plain": [
       "array(['Christian', 'None', 'Catholic', 'Methodist', 'Muslim', 'Jewish',\n",
       "       'Sikh', 'Buddist', 'Bahai', 'Sith', 'Private', 'Baptist',\n",
       "       'Orthodoxy'], dtype=object)"
      ]
     },
     "execution_count": 38,
     "metadata": {},
     "output_type": "execute_result"
    }
   ],
   "source": [
    "census['Religion'].unique()"
   ]
  },
  {
   "cell_type": "markdown",
   "id": "1d2b8ef6",
   "metadata": {},
   "source": [
    "##  House number"
   ]
  },
  {
   "cell_type": "code",
   "execution_count": 39,
   "id": "a568c145",
   "metadata": {},
   "outputs": [
    {
     "data": {
      "text/plain": [
       "array(['1', '2', '3', '4', '5', '6', '7', '8', '9', '10', '11', '12',\n",
       "       '13', '14', '15', '16', '17', '18', '19', '20', '21', '22', '23',\n",
       "       '24', '25', '26', '27', '28', '29', '30', '31', '32', '33', '34',\n",
       "       '35', '36', '37', '38', '39', '40', '41', '42', '43', '44', '45',\n",
       "       '46', '47', '48', '49', '50', '51', '52', '53', '54', '55', '56',\n",
       "       '57', '58', '59', '60', '61', '62', '63', '64', '65', '66', '67',\n",
       "       '68', '69', '70', '71', '72', '73', '74', '75', '76', '77', '78',\n",
       "       '79', '80', '81', '82', '83', '84', '85', '86', '87', '88', '89',\n",
       "       '90', '91', '92', '93', '94', '95', '96', '97', '98', '99', '100',\n",
       "       '101', 'One', '102', '103', '104', '105', '106', '107', '108',\n",
       "       '109', '110', '111', '112', '113', '114', '115', '116', '117',\n",
       "       '118', '119', '120', '121', '122', '123', '124', '125', '126',\n",
       "       '127', '128', '129', '130', '131', '132', '133', '134', '135',\n",
       "       '136', '137', '138', '139', '140', '141', '142', '143', '144',\n",
       "       '145', '146', '147', '148', '149', '150', '151', '152', '153',\n",
       "       '154', '155', '156', '157', '158', '159', '160', '161', '162',\n",
       "       '163', '164', '165', '166', '167', '168', '169', '170', '171',\n",
       "       '172', '173', '174', '175', '176', '177', '178', '179', '180',\n",
       "       '181', '182', '183', '184', '185', '186', '187', '188', '189',\n",
       "       '190', '191', '192', '193', '194', '195', '196', '197', '198',\n",
       "       '199', '200', '201', '202', '203', '204', '205', '206', '207',\n",
       "       '208', '209', '210', '211', '212', '213', '214', '215', '216',\n",
       "       '217', '218', '219', '220', '221'], dtype=object)"
      ]
     },
     "execution_count": 39,
     "metadata": {},
     "output_type": "execute_result"
    }
   ],
   "source": [
    "census['House Number'].unique()"
   ]
  },
  {
   "cell_type": "code",
   "execution_count": 40,
   "id": "a6f14098",
   "metadata": {},
   "outputs": [
    {
     "name": "stdout",
     "output_type": "stream",
     "text": [
      "Int64Index([471], dtype='int64')\n"
     ]
    }
   ],
   "source": [
    "house_number_update = census[census['House Number'] == 'One'].index\n",
    "print(house_number_update)"
   ]
  },
  {
   "cell_type": "code",
   "execution_count": 41,
   "id": "a3653113",
   "metadata": {},
   "outputs": [],
   "source": [
    "census['House Number'].replace('One', '1', inplace = True)"
   ]
  },
  {
   "cell_type": "code",
   "execution_count": 42,
   "id": "c1eac1ad",
   "metadata": {},
   "outputs": [
    {
     "data": {
      "text/plain": [
       "'1'"
      ]
     },
     "execution_count": 42,
     "metadata": {},
     "output_type": "execute_result"
    }
   ],
   "source": [
    "census['House Number'][471]"
   ]
  },
  {
   "cell_type": "code",
   "execution_count": 43,
   "id": "814e6c2b",
   "metadata": {},
   "outputs": [
    {
     "data": {
      "text/plain": [
       "array(['1', '2', '3', '4', '5', '6', '7', '8', '9', '10', '11', '12',\n",
       "       '13', '14', '15', '16', '17', '18', '19', '20', '21', '22', '23',\n",
       "       '24', '25', '26', '27', '28', '29', '30', '31', '32', '33', '34',\n",
       "       '35', '36', '37', '38', '39', '40', '41', '42', '43', '44', '45',\n",
       "       '46', '47', '48', '49', '50', '51', '52', '53', '54', '55', '56',\n",
       "       '57', '58', '59', '60', '61', '62', '63', '64', '65', '66', '67',\n",
       "       '68', '69', '70', '71', '72', '73', '74', '75', '76', '77', '78',\n",
       "       '79', '80', '81', '82', '83', '84', '85', '86', '87', '88', '89',\n",
       "       '90', '91', '92', '93', '94', '95', '96', '97', '98', '99', '100',\n",
       "       '101', '102', '103', '104', '105', '106', '107', '108', '109',\n",
       "       '110', '111', '112', '113', '114', '115', '116', '117', '118',\n",
       "       '119', '120', '121', '122', '123', '124', '125', '126', '127',\n",
       "       '128', '129', '130', '131', '132', '133', '134', '135', '136',\n",
       "       '137', '138', '139', '140', '141', '142', '143', '144', '145',\n",
       "       '146', '147', '148', '149', '150', '151', '152', '153', '154',\n",
       "       '155', '156', '157', '158', '159', '160', '161', '162', '163',\n",
       "       '164', '165', '166', '167', '168', '169', '170', '171', '172',\n",
       "       '173', '174', '175', '176', '177', '178', '179', '180', '181',\n",
       "       '182', '183', '184', '185', '186', '187', '188', '189', '190',\n",
       "       '191', '192', '193', '194', '195', '196', '197', '198', '199',\n",
       "       '200', '201', '202', '203', '204', '205', '206', '207', '208',\n",
       "       '209', '210', '211', '212', '213', '214', '215', '216', '217',\n",
       "       '218', '219', '220', '221'], dtype=object)"
      ]
     },
     "execution_count": 43,
     "metadata": {},
     "output_type": "execute_result"
    }
   ],
   "source": [
    "census['House Number'].unique()"
   ]
  },
  {
   "cell_type": "code",
   "execution_count": 44,
   "id": "b03d9120",
   "metadata": {},
   "outputs": [
    {
     "name": "stdout",
     "output_type": "stream",
     "text": [
      "<class 'pandas.core.series.Series'>\n",
      "RangeIndex: 7773 entries, 0 to 7772\n",
      "Series name: House Number\n",
      "Non-Null Count  Dtype\n",
      "--------------  -----\n",
      "7773 non-null   int64\n",
      "dtypes: int64(1)\n",
      "memory usage: 60.9 KB\n"
     ]
    }
   ],
   "source": [
    "census['House Number'] = pd.to_numeric(census['House Number']).astype(np.int64)\n",
    "census['House Number'].info()"
   ]
  },
  {
   "cell_type": "code",
   "execution_count": 45,
   "id": "3a123e31",
   "metadata": {},
   "outputs": [
    {
     "name": "stdout",
     "output_type": "stream",
     "text": [
      "<class 'pandas.core.frame.DataFrame'>\n",
      "RangeIndex: 7773 entries, 0 to 7772\n",
      "Data columns (total 11 columns):\n",
      " #   Column                         Non-Null Count  Dtype \n",
      "---  ------                         --------------  ----- \n",
      " 0   House Number                   7773 non-null   int64 \n",
      " 1   Street                         7773 non-null   object\n",
      " 2   First Name                     7773 non-null   object\n",
      " 3   Surname                        7773 non-null   object\n",
      " 4   Age                            7773 non-null   int64 \n",
      " 5   Relationship to Head of House  7773 non-null   object\n",
      " 6   Marital Status                 5960 non-null   object\n",
      " 7   Gender                         7773 non-null   object\n",
      " 8   Occupation                     7773 non-null   object\n",
      " 9   Infirmity                      7773 non-null   object\n",
      " 10  Religion                       7773 non-null   object\n",
      "dtypes: int64(2), object(9)\n",
      "memory usage: 668.1+ KB\n"
     ]
    }
   ],
   "source": [
    "census.info()"
   ]
  },
  {
   "cell_type": "markdown",
   "id": "9f6cfe89",
   "metadata": {},
   "source": [
    "## Relationship to head of house cleanup"
   ]
  },
  {
   "cell_type": "code",
   "execution_count": 46,
   "id": "62f59e14",
   "metadata": {},
   "outputs": [
    {
     "data": {
      "text/plain": [
       "array(['Head', 'Husband', 'Daughter', 'Son', 'None', 'Wife', 'Partner',\n",
       "       'Lodger', 'Sibling', 'Visitor', 'Cousin', 'Adopted Son',\n",
       "       'Granddaughter', 'Grandson', 'Adopted Daughter', 'Step-Son',\n",
       "       'Step-Daughter', 'Neice', 'Nephew', 'Adopted Granddaughter', ' '],\n",
       "      dtype=object)"
      ]
     },
     "execution_count": 46,
     "metadata": {},
     "output_type": "execute_result"
    }
   ],
   "source": [
    "census['Relationship to Head of House'].unique()"
   ]
  },
  {
   "cell_type": "code",
   "execution_count": 45,
   "id": "e9a94b2f",
   "metadata": {},
   "outputs": [
    {
     "name": "stdout",
     "output_type": "stream",
     "text": [
      "Int64Index([2240], dtype='int64')\n"
     ]
    }
   ],
   "source": [
    "row_index =census[census['Relationship to Head of House'] == ' '].index\n",
    "print(row_index)"
   ]
  },
  {
   "cell_type": "code",
   "execution_count": 46,
   "id": "ece7746a",
   "metadata": {},
   "outputs": [
    {
     "data": {
      "text/html": [
       "<div>\n",
       "<style scoped>\n",
       "    .dataframe tbody tr th:only-of-type {\n",
       "        vertical-align: middle;\n",
       "    }\n",
       "\n",
       "    .dataframe tbody tr th {\n",
       "        vertical-align: top;\n",
       "    }\n",
       "\n",
       "    .dataframe thead th {\n",
       "        text-align: right;\n",
       "    }\n",
       "</style>\n",
       "<table border=\"1\" class=\"dataframe\">\n",
       "  <thead>\n",
       "    <tr style=\"text-align: right;\">\n",
       "      <th></th>\n",
       "      <th>House Number</th>\n",
       "      <th>Street</th>\n",
       "      <th>First Name</th>\n",
       "      <th>Surname</th>\n",
       "      <th>Age</th>\n",
       "      <th>Relationship to Head of House</th>\n",
       "      <th>Marital Status</th>\n",
       "      <th>Gender</th>\n",
       "      <th>Occupation</th>\n",
       "      <th>Infirmity</th>\n",
       "      <th>Religion</th>\n",
       "    </tr>\n",
       "  </thead>\n",
       "  <tbody>\n",
       "    <tr>\n",
       "      <th>2240</th>\n",
       "      <td>19</td>\n",
       "      <td>Norwich Cliffs</td>\n",
       "      <td>Emily</td>\n",
       "      <td>Hill</td>\n",
       "      <td>19</td>\n",
       "      <td></td>\n",
       "      <td>Single</td>\n",
       "      <td>Female</td>\n",
       "      <td>University Student</td>\n",
       "      <td>None</td>\n",
       "      <td>None</td>\n",
       "    </tr>\n",
       "  </tbody>\n",
       "</table>\n",
       "</div>"
      ],
      "text/plain": [
       "     House Number          Street First Name Surname  Age  \\\n",
       "2240           19  Norwich Cliffs      Emily    Hill   19   \n",
       "\n",
       "     Relationship to Head of House Marital Status  Gender          Occupation  \\\n",
       "2240                                       Single  Female  University Student   \n",
       "\n",
       "     Infirmity Religion  \n",
       "2240      None     None  "
      ]
     },
     "execution_count": 46,
     "metadata": {},
     "output_type": "execute_result"
    }
   ],
   "source": [
    "census.loc[[2240]]"
   ]
  },
  {
   "cell_type": "code",
   "execution_count": 47,
   "id": "8047d1c1",
   "metadata": {},
   "outputs": [
    {
     "data": {
      "text/html": [
       "<div>\n",
       "<style scoped>\n",
       "    .dataframe tbody tr th:only-of-type {\n",
       "        vertical-align: middle;\n",
       "    }\n",
       "\n",
       "    .dataframe tbody tr th {\n",
       "        vertical-align: top;\n",
       "    }\n",
       "\n",
       "    .dataframe thead th {\n",
       "        text-align: right;\n",
       "    }\n",
       "</style>\n",
       "<table border=\"1\" class=\"dataframe\">\n",
       "  <thead>\n",
       "    <tr style=\"text-align: right;\">\n",
       "      <th></th>\n",
       "      <th>House Number</th>\n",
       "      <th>Street</th>\n",
       "      <th>First Name</th>\n",
       "      <th>Surname</th>\n",
       "      <th>Age</th>\n",
       "      <th>Relationship to Head of House</th>\n",
       "      <th>Marital Status</th>\n",
       "      <th>Gender</th>\n",
       "      <th>Occupation</th>\n",
       "      <th>Infirmity</th>\n",
       "      <th>Religion</th>\n",
       "    </tr>\n",
       "  </thead>\n",
       "  <tbody>\n",
       "  </tbody>\n",
       "</table>\n",
       "</div>"
      ],
      "text/plain": [
       "Empty DataFrame\n",
       "Columns: [House Number, Street, First Name, Surname, Age, Relationship to Head of House, Marital Status, Gender, Occupation, Infirmity, Religion]\n",
       "Index: []"
      ]
     },
     "execution_count": 47,
     "metadata": {},
     "output_type": "execute_result"
    }
   ],
   "source": [
    "census[(census['House Number'] == 19) & (census['Street'] == 'Norwich Cliffs')]"
   ]
  },
  {
   "cell_type": "code",
   "execution_count": 48,
   "id": "079d5703",
   "metadata": {},
   "outputs": [
    {
     "data": {
      "text/plain": [
       "array(['Head', 'Husband', 'Daughter', 'Son', 'None', 'Wife', 'Partner',\n",
       "       'Lodger', 'Sibling', 'Visitor', 'Cousin', 'Adopted Son',\n",
       "       'Granddaughter', 'Grandson', 'Adopted Daughter', 'Step-Son',\n",
       "       'Step-Daughter', 'Neice', 'Nephew', 'Adopted Granddaughter'],\n",
       "      dtype=object)"
      ]
     },
     "execution_count": 48,
     "metadata": {},
     "output_type": "execute_result"
    }
   ],
   "source": [
    "# Looking at this column they are around the same age range and have nothing really in common.\n",
    "#This signifies that they live in a shared apartment.\n",
    "\n",
    "census['Relationship to Head of House'].replace(' ', 'None', inplace = True)\n",
    "\n",
    "census['Relationship to Head of House'].unique()"
   ]
  },
  {
   "cell_type": "markdown",
   "id": "679c6b7e",
   "metadata": {},
   "source": [
    "## Marital Status Cleanup"
   ]
  },
  {
   "cell_type": "code",
   "execution_count": 49,
   "id": "3f913c48",
   "metadata": {},
   "outputs": [
    {
     "data": {
      "text/plain": [
       "array(['Married', nan, 'Divorced', 'Widowed', 'Single', 'M', 'D', ' ',\n",
       "       'S', 'W'], dtype=object)"
      ]
     },
     "execution_count": 49,
     "metadata": {},
     "output_type": "execute_result"
    }
   ],
   "source": [
    "Unique_Marital_Status"
   ]
  },
  {
   "cell_type": "code",
   "execution_count": 50,
   "id": "b750ce79",
   "metadata": {},
   "outputs": [
    {
     "name": "stdout",
     "output_type": "stream",
     "text": [
      "Int64Index([819], dtype='int64')\n"
     ]
    }
   ],
   "source": [
    "ms_index = census[census['Marital Status'] == ' '].index\n",
    "print(ms_index)"
   ]
  },
  {
   "cell_type": "code",
   "execution_count": 51,
   "id": "f8cd6ff8",
   "metadata": {},
   "outputs": [
    {
     "data": {
      "text/html": [
       "<div>\n",
       "<style scoped>\n",
       "    .dataframe tbody tr th:only-of-type {\n",
       "        vertical-align: middle;\n",
       "    }\n",
       "\n",
       "    .dataframe tbody tr th {\n",
       "        vertical-align: top;\n",
       "    }\n",
       "\n",
       "    .dataframe thead th {\n",
       "        text-align: right;\n",
       "    }\n",
       "</style>\n",
       "<table border=\"1\" class=\"dataframe\">\n",
       "  <thead>\n",
       "    <tr style=\"text-align: right;\">\n",
       "      <th></th>\n",
       "      <th>House Number</th>\n",
       "      <th>Street</th>\n",
       "      <th>First Name</th>\n",
       "      <th>Surname</th>\n",
       "      <th>Age</th>\n",
       "      <th>Relationship to Head of House</th>\n",
       "      <th>Marital Status</th>\n",
       "      <th>Gender</th>\n",
       "      <th>Occupation</th>\n",
       "      <th>Infirmity</th>\n",
       "      <th>Religion</th>\n",
       "    </tr>\n",
       "  </thead>\n",
       "  <tbody>\n",
       "    <tr>\n",
       "      <th>819</th>\n",
       "      <td>31</td>\n",
       "      <td>Newfound Drive</td>\n",
       "      <td>Hilary</td>\n",
       "      <td>Morgan</td>\n",
       "      <td>22</td>\n",
       "      <td>Daughter</td>\n",
       "      <td></td>\n",
       "      <td>Female</td>\n",
       "      <td>University Student</td>\n",
       "      <td>None</td>\n",
       "      <td>None</td>\n",
       "    </tr>\n",
       "  </tbody>\n",
       "</table>\n",
       "</div>"
      ],
      "text/plain": [
       "    House Number          Street First Name Surname  Age  \\\n",
       "819           31  Newfound Drive     Hilary  Morgan   22   \n",
       "\n",
       "    Relationship to Head of House Marital Status  Gender          Occupation  \\\n",
       "819                      Daughter                 Female  University Student   \n",
       "\n",
       "    Infirmity Religion  \n",
       "819      None     None  "
      ]
     },
     "execution_count": 51,
     "metadata": {},
     "output_type": "execute_result"
    }
   ],
   "source": [
    "census.loc[[819]]"
   ]
  },
  {
   "cell_type": "code",
   "execution_count": 52,
   "id": "23f70fb8",
   "metadata": {},
   "outputs": [
    {
     "name": "stdout",
     "output_type": "stream",
     "text": [
      "0    Single\n",
      "Name: Marital Status, dtype: object\n"
     ]
    }
   ],
   "source": [
    "#Code to get the mode of the occupation of the students \n",
    "for column in census['Occupation']:\n",
    "    if column == 'University Student':\n",
    "        x = census['Marital Status'].mode()\n",
    "\n",
    "print(x)"
   ]
  },
  {
   "cell_type": "code",
   "execution_count": 53,
   "id": "cc24ef2d",
   "metadata": {},
   "outputs": [
    {
     "data": {
      "text/plain": [
       "array(['Married', nan, 'Divorced', 'Widowed', 'Single', 'M', 'D', 'S',\n",
       "       'W'], dtype=object)"
      ]
     },
     "execution_count": 53,
     "metadata": {},
     "output_type": "execute_result"
    }
   ],
   "source": [
    "census['Marital Status'].replace(' ', 'Single', inplace = True)\n",
    "\n",
    "census['Marital Status'].unique()"
   ]
  },
  {
   "cell_type": "code",
   "execution_count": 54,
   "id": "2bf122da",
   "metadata": {},
   "outputs": [],
   "source": [
    "for column in census['Marital Status']:\n",
    "    if column == 'D':\n",
    "        census['Marital Status'] = census['Marital Status'].replace('D', 'Divorced')\n",
    "    elif column == 'M':\n",
    "        census['Marital Status'] = census['Marital Status'].replace('M', 'Married')\n",
    "    elif column == 'S':\n",
    "        census['Marital Status'] = census['Marital Status'].replace('S', 'Single')\n",
    "    elif column == 'W':\n",
    "        census['Marital Status'] = census['Marital Status'].replace('W', 'Widowed')"
   ]
  },
  {
   "cell_type": "code",
   "execution_count": 55,
   "id": "402605b4",
   "metadata": {},
   "outputs": [
    {
     "data": {
      "text/plain": [
       "array(['Married', nan, 'Divorced', 'Widowed', 'Single'], dtype=object)"
      ]
     },
     "execution_count": 55,
     "metadata": {},
     "output_type": "execute_result"
    }
   ],
   "source": [
    "census['Marital Status'].unique()"
   ]
  },
  {
   "cell_type": "code",
   "execution_count": null,
   "id": "ab821a49",
   "metadata": {},
   "outputs": [],
   "source": []
  },
  {
   "cell_type": "markdown",
   "id": "4dd5bcc5",
   "metadata": {},
   "source": [
    "## Gender Cleanup\n"
   ]
  },
  {
   "cell_type": "code",
   "execution_count": 56,
   "id": "35574018",
   "metadata": {},
   "outputs": [
    {
     "data": {
      "text/plain": [
       "array(['Female', 'Male', 'female', 'M', 'm', 'f', 'F', 'male', ' '],\n",
       "      dtype=object)"
      ]
     },
     "execution_count": 56,
     "metadata": {},
     "output_type": "execute_result"
    }
   ],
   "source": [
    "Unique_Gender"
   ]
  },
  {
   "cell_type": "code",
   "execution_count": 57,
   "id": "f6f6bb7e",
   "metadata": {},
   "outputs": [],
   "source": [
    "#Here we will be going with two conventions Male and Female\n",
    "for column in census['Gender']:\n",
    "    if column == 'female':\n",
    "        census['Gender'] = census['Gender'].replace('female', 'Female')\n",
    "    elif column == 'male':\n",
    "        census['Gender'] = census['Gender'].replace('male', 'Male')\n",
    "    elif column == 'M':\n",
    "        census['Gender'] = census['Gender'].replace('M', 'Male')\n",
    "    elif column == 'm':\n",
    "        census['Gender'] = census['Gender'].replace('m', 'Male')\n",
    "    elif column == 'f':\n",
    "        census['Gender'] = census['Gender'].replace('f', 'Female')\n",
    "    elif column == 'F':\n",
    "        census['Gender'] = census['Gender'].replace('F', 'Female')"
   ]
  },
  {
   "cell_type": "code",
   "execution_count": 58,
   "id": "f8a2705a",
   "metadata": {},
   "outputs": [
    {
     "data": {
      "text/plain": [
       "array(['Female', 'Male', ' '], dtype=object)"
      ]
     },
     "execution_count": 58,
     "metadata": {},
     "output_type": "execute_result"
    }
   ],
   "source": [
    "census['Gender'].unique()"
   ]
  },
  {
   "cell_type": "code",
   "execution_count": 59,
   "id": "68aae73b",
   "metadata": {
    "scrolled": true
   },
   "outputs": [
    {
     "data": {
      "text/html": [
       "<div>\n",
       "<style scoped>\n",
       "    .dataframe tbody tr th:only-of-type {\n",
       "        vertical-align: middle;\n",
       "    }\n",
       "\n",
       "    .dataframe tbody tr th {\n",
       "        vertical-align: top;\n",
       "    }\n",
       "\n",
       "    .dataframe thead th {\n",
       "        text-align: right;\n",
       "    }\n",
       "</style>\n",
       "<table border=\"1\" class=\"dataframe\">\n",
       "  <thead>\n",
       "    <tr style=\"text-align: right;\">\n",
       "      <th></th>\n",
       "      <th>House Number</th>\n",
       "      <th>Street</th>\n",
       "      <th>First Name</th>\n",
       "      <th>Surname</th>\n",
       "      <th>Age</th>\n",
       "      <th>Relationship to Head of House</th>\n",
       "      <th>Marital Status</th>\n",
       "      <th>Gender</th>\n",
       "      <th>Occupation</th>\n",
       "      <th>Infirmity</th>\n",
       "      <th>Religion</th>\n",
       "    </tr>\n",
       "  </thead>\n",
       "  <tbody>\n",
       "    <tr>\n",
       "      <th>5394</th>\n",
       "      <td>13</td>\n",
       "      <td>Simpson Flats</td>\n",
       "      <td>Antony</td>\n",
       "      <td>Welch-Martin</td>\n",
       "      <td>61</td>\n",
       "      <td>Husband</td>\n",
       "      <td>Married</td>\n",
       "      <td></td>\n",
       "      <td>Psychologist, prison and probation services</td>\n",
       "      <td>None</td>\n",
       "      <td>Catholic</td>\n",
       "    </tr>\n",
       "  </tbody>\n",
       "</table>\n",
       "</div>"
      ],
      "text/plain": [
       "     House Number         Street First Name       Surname  Age  \\\n",
       "5394           13  Simpson Flats     Antony  Welch-Martin   61   \n",
       "\n",
       "     Relationship to Head of House Marital Status Gender  \\\n",
       "5394                       Husband        Married          \n",
       "\n",
       "                                       Occupation Infirmity  Religion  \n",
       "5394  Psychologist, prison and probation services      None  Catholic  "
      ]
     },
     "execution_count": 59,
     "metadata": {},
     "output_type": "execute_result"
    }
   ],
   "source": [
    "census[census['Gender'] == ' ']"
   ]
  },
  {
   "cell_type": "code",
   "execution_count": 60,
   "id": "d86fa53a",
   "metadata": {
    "scrolled": true
   },
   "outputs": [
    {
     "data": {
      "text/html": [
       "<div>\n",
       "<style scoped>\n",
       "    .dataframe tbody tr th:only-of-type {\n",
       "        vertical-align: middle;\n",
       "    }\n",
       "\n",
       "    .dataframe tbody tr th {\n",
       "        vertical-align: top;\n",
       "    }\n",
       "\n",
       "    .dataframe thead th {\n",
       "        text-align: right;\n",
       "    }\n",
       "</style>\n",
       "<table border=\"1\" class=\"dataframe\">\n",
       "  <thead>\n",
       "    <tr style=\"text-align: right;\">\n",
       "      <th></th>\n",
       "      <th>House Number</th>\n",
       "      <th>Street</th>\n",
       "      <th>First Name</th>\n",
       "      <th>Surname</th>\n",
       "      <th>Age</th>\n",
       "      <th>Relationship to Head of House</th>\n",
       "      <th>Marital Status</th>\n",
       "      <th>Gender</th>\n",
       "      <th>Occupation</th>\n",
       "      <th>Infirmity</th>\n",
       "      <th>Religion</th>\n",
       "    </tr>\n",
       "  </thead>\n",
       "  <tbody>\n",
       "  </tbody>\n",
       "</table>\n",
       "</div>"
      ],
      "text/plain": [
       "Empty DataFrame\n",
       "Columns: [House Number, Street, First Name, Surname, Age, Relationship to Head of House, Marital Status, Gender, Occupation, Infirmity, Religion]\n",
       "Index: []"
      ]
     },
     "execution_count": 60,
     "metadata": {},
     "output_type": "execute_result"
    }
   ],
   "source": [
    "census[(census['House Number'] == 13 ) & (census['Street'] == 'Simpson Flats')]"
   ]
  },
  {
   "cell_type": "code",
   "execution_count": 61,
   "id": "b07d4228",
   "metadata": {},
   "outputs": [
    {
     "data": {
      "text/plain": [
       "array(['Female', 'Male'], dtype=object)"
      ]
     },
     "execution_count": 61,
     "metadata": {},
     "output_type": "execute_result"
    }
   ],
   "source": [
    "#looking at the first name (Antony) and relationship to head (Husband) we can deduce that gender is Male\n",
    "\n",
    "\n",
    "census['Gender'].replace(' ', 'Male', inplace = True)\n",
    "\n",
    "census['Gender'].unique()"
   ]
  },
  {
   "cell_type": "markdown",
   "id": "76674156",
   "metadata": {},
   "source": [
    "## Occupation cleanup"
   ]
  },
  {
   "cell_type": "code",
   "execution_count": 62,
   "id": "4986fb08",
   "metadata": {},
   "outputs": [
    {
     "data": {
      "text/plain": [
       "array(['Unemployed', 'Education officer, community', 'Student', ...,\n",
       "       'Retired Civil Service administrator',\n",
       "       'Retired Research officer, government',\n",
       "       'Retired Consulting civil engineer'], dtype=object)"
      ]
     },
     "execution_count": 62,
     "metadata": {},
     "output_type": "execute_result"
    }
   ],
   "source": [
    "Unique_Occupation"
   ]
  },
  {
   "cell_type": "code",
   "execution_count": 63,
   "id": "440093c2",
   "metadata": {},
   "outputs": [
    {
     "data": {
      "text/plain": [
       "Int64Index([949], dtype='int64')"
      ]
     },
     "execution_count": 63,
     "metadata": {},
     "output_type": "execute_result"
    }
   ],
   "source": [
    "census[census['Occupation'] == ' '].index"
   ]
  },
  {
   "cell_type": "code",
   "execution_count": 64,
   "id": "31094327",
   "metadata": {},
   "outputs": [
    {
     "data": {
      "text/html": [
       "<div>\n",
       "<style scoped>\n",
       "    .dataframe tbody tr th:only-of-type {\n",
       "        vertical-align: middle;\n",
       "    }\n",
       "\n",
       "    .dataframe tbody tr th {\n",
       "        vertical-align: top;\n",
       "    }\n",
       "\n",
       "    .dataframe thead th {\n",
       "        text-align: right;\n",
       "    }\n",
       "</style>\n",
       "<table border=\"1\" class=\"dataframe\">\n",
       "  <thead>\n",
       "    <tr style=\"text-align: right;\">\n",
       "      <th></th>\n",
       "      <th>House Number</th>\n",
       "      <th>Street</th>\n",
       "      <th>First Name</th>\n",
       "      <th>Surname</th>\n",
       "      <th>Age</th>\n",
       "      <th>Relationship to Head of House</th>\n",
       "      <th>Marital Status</th>\n",
       "      <th>Gender</th>\n",
       "      <th>Occupation</th>\n",
       "      <th>Infirmity</th>\n",
       "      <th>Religion</th>\n",
       "    </tr>\n",
       "  </thead>\n",
       "  <tbody>\n",
       "    <tr>\n",
       "      <th>949</th>\n",
       "      <td>16</td>\n",
       "      <td>Newfound Creek</td>\n",
       "      <td>Danielle</td>\n",
       "      <td>Wood</td>\n",
       "      <td>70</td>\n",
       "      <td>Head</td>\n",
       "      <td>Single</td>\n",
       "      <td>Female</td>\n",
       "      <td></td>\n",
       "      <td>None</td>\n",
       "      <td>Christian</td>\n",
       "    </tr>\n",
       "  </tbody>\n",
       "</table>\n",
       "</div>"
      ],
      "text/plain": [
       "    House Number          Street First Name Surname  Age  \\\n",
       "949           16  Newfound Creek   Danielle    Wood   70   \n",
       "\n",
       "    Relationship to Head of House Marital Status  Gender Occupation Infirmity  \\\n",
       "949                          Head         Single  Female                 None   \n",
       "\n",
       "      Religion  \n",
       "949  Christian  "
      ]
     },
     "execution_count": 64,
     "metadata": {},
     "output_type": "execute_result"
    }
   ],
   "source": [
    "census.loc[[949]]"
   ]
  },
  {
   "cell_type": "code",
   "execution_count": 65,
   "id": "54280088",
   "metadata": {},
   "outputs": [
    {
     "data": {
      "text/html": [
       "<div>\n",
       "<style scoped>\n",
       "    .dataframe tbody tr th:only-of-type {\n",
       "        vertical-align: middle;\n",
       "    }\n",
       "\n",
       "    .dataframe tbody tr th {\n",
       "        vertical-align: top;\n",
       "    }\n",
       "\n",
       "    .dataframe thead th {\n",
       "        text-align: right;\n",
       "    }\n",
       "</style>\n",
       "<table border=\"1\" class=\"dataframe\">\n",
       "  <thead>\n",
       "    <tr style=\"text-align: right;\">\n",
       "      <th></th>\n",
       "      <th>House Number</th>\n",
       "      <th>Street</th>\n",
       "      <th>First Name</th>\n",
       "      <th>Surname</th>\n",
       "      <th>Age</th>\n",
       "      <th>Relationship to Head of House</th>\n",
       "      <th>Marital Status</th>\n",
       "      <th>Gender</th>\n",
       "      <th>Occupation</th>\n",
       "      <th>Infirmity</th>\n",
       "      <th>Religion</th>\n",
       "    </tr>\n",
       "  </thead>\n",
       "  <tbody>\n",
       "  </tbody>\n",
       "</table>\n",
       "</div>"
      ],
      "text/plain": [
       "Empty DataFrame\n",
       "Columns: [House Number, Street, First Name, Surname, Age, Relationship to Head of House, Marital Status, Gender, Occupation, Infirmity, Religion]\n",
       "Index: []"
      ]
     },
     "execution_count": 65,
     "metadata": {},
     "output_type": "execute_result"
    }
   ],
   "source": [
    "census[(census['House Number'] == 16) & (census['Street'] == 'Newfound Creek')]"
   ]
  },
  {
   "cell_type": "code",
   "execution_count": 66,
   "id": "c71b0c65",
   "metadata": {},
   "outputs": [],
   "source": [
    "census['Occupation'].replace(' ', 'Retired', inplace = True)"
   ]
  },
  {
   "cell_type": "code",
   "execution_count": null,
   "id": "febb13ca",
   "metadata": {},
   "outputs": [],
   "source": []
  },
  {
   "cell_type": "markdown",
   "id": "e25fa8b4",
   "metadata": {},
   "source": [
    "## Infirmity"
   ]
  },
  {
   "cell_type": "code",
   "execution_count": 67,
   "id": "47a0a1a2",
   "metadata": {},
   "outputs": [
    {
     "data": {
      "text/plain": [
       "array(['None', 'Unknown Infection', 'Blind', 'Disabled', ' ',\n",
       "       'Mental Disability', 'Physical Disability', 'Deaf'], dtype=object)"
      ]
     },
     "execution_count": 67,
     "metadata": {},
     "output_type": "execute_result"
    }
   ],
   "source": [
    "Unique_Infirmity"
   ]
  },
  {
   "cell_type": "code",
   "execution_count": 68,
   "id": "a6f293fb",
   "metadata": {},
   "outputs": [
    {
     "data": {
      "text/plain": [
       "Int64Index([430, 509, 2012, 2818, 6208, 6642], dtype='int64')"
      ]
     },
     "execution_count": 68,
     "metadata": {},
     "output_type": "execute_result"
    }
   ],
   "source": [
    "census[census['Infirmity'] == ' '].index"
   ]
  },
  {
   "cell_type": "code",
   "execution_count": 69,
   "id": "e7295480",
   "metadata": {},
   "outputs": [],
   "source": [
    "# fill with None"
   ]
  },
  {
   "cell_type": "code",
   "execution_count": 70,
   "id": "b1b6ae9a",
   "metadata": {},
   "outputs": [
    {
     "name": "stdout",
     "output_type": "stream",
     "text": [
      "<class 'pandas.core.frame.DataFrame'>\n",
      "RangeIndex: 7773 entries, 0 to 7772\n",
      "Data columns (total 11 columns):\n",
      " #   Column                         Non-Null Count  Dtype \n",
      "---  ------                         --------------  ----- \n",
      " 0   House Number                   7773 non-null   object\n",
      " 1   Street                         7773 non-null   object\n",
      " 2   First Name                     7773 non-null   object\n",
      " 3   Surname                        7773 non-null   object\n",
      " 4   Age                            7773 non-null   int64 \n",
      " 5   Relationship to Head of House  7773 non-null   object\n",
      " 6   Marital Status                 5960 non-null   object\n",
      " 7   Gender                         7773 non-null   object\n",
      " 8   Occupation                     7773 non-null   object\n",
      " 9   Infirmity                      7773 non-null   object\n",
      " 10  Religion                       7773 non-null   object\n",
      "dtypes: int64(1), object(10)\n",
      "memory usage: 668.1+ KB\n"
     ]
    }
   ],
   "source": [
    "census.info()"
   ]
  },
  {
   "cell_type": "code",
   "execution_count": null,
   "id": "40f5f863",
   "metadata": {},
   "outputs": [],
   "source": []
  },
  {
   "cell_type": "code",
   "execution_count": 92,
   "id": "d73000ed",
   "metadata": {},
   "outputs": [],
   "source": [
    "import seaborn as sns\n"
   ]
  },
  {
   "cell_type": "code",
   "execution_count": 72,
   "id": "f0810e7c",
   "metadata": {},
   "outputs": [
    {
     "data": {
      "text/plain": [
       "<seaborn.axisgrid.FacetGrid at 0x7fcaec450820>"
      ]
     },
     "execution_count": 72,
     "metadata": {},
     "output_type": "execute_result"
    },
    {
     "data": {
      "image/png": "[encoded data removed]",
      "text/plain": [
       "<Figure size 360x360 with 1 Axes>"
      ]
     },
     "metadata": {
      "needs_background": "light"
     },
     "output_type": "display_data"
    }
   ],
   "source": [
    "sns.displot(data=census, x = 'Marital Status', bins =30)"
   ]
  },
  {
   "cell_type": "code",
   "execution_count": 73,
   "id": "ac1c2e74",
   "metadata": {},
   "outputs": [
    {
     "data": {
      "text/plain": [
       "<seaborn.axisgrid.FacetGrid at 0x7fcaec3b9fd0>"
      ]
     },
     "execution_count": 73,
     "metadata": {},
     "output_type": "execute_result"
    },
    {
     "data": {
      "image/png": "[encoded data removed]",
      "text/plain": [
       "<Figure size 360x360 with 1 Axes>"
      ]
     },
     "metadata": {
      "needs_background": "light"
     },
     "output_type": "display_data"
    }
   ],
   "source": [
    "sns.displot(data=census, x = 'Age', bins =20)"
   ]
  },
  {
   "cell_type": "code",
   "execution_count": 74,
   "id": "f252dbbd",
   "metadata": {},
   "outputs": [
    {
     "data": {
      "text/html": [
       "<div>\n",
       "<style scoped>\n",
       "    .dataframe tbody tr th:only-of-type {\n",
       "        vertical-align: middle;\n",
       "    }\n",
       "\n",
       "    .dataframe tbody tr th {\n",
       "        vertical-align: top;\n",
       "    }\n",
       "\n",
       "    .dataframe thead th {\n",
       "        text-align: right;\n",
       "    }\n",
       "</style>\n",
       "<table border=\"1\" class=\"dataframe\">\n",
       "  <thead>\n",
       "    <tr style=\"text-align: right;\">\n",
       "      <th></th>\n",
       "      <th>House Number</th>\n",
       "      <th>Street</th>\n",
       "      <th>First Name</th>\n",
       "      <th>Surname</th>\n",
       "      <th>Age</th>\n",
       "      <th>Relationship to Head of House</th>\n",
       "      <th>Marital Status</th>\n",
       "      <th>Gender</th>\n",
       "      <th>Occupation</th>\n",
       "      <th>Infirmity</th>\n",
       "      <th>Religion</th>\n",
       "    </tr>\n",
       "  </thead>\n",
       "  <tbody>\n",
       "    <tr>\n",
       "      <th>1</th>\n",
       "      <td>1</td>\n",
       "      <td>Forgotten Gardens</td>\n",
       "      <td>Elliot</td>\n",
       "      <td>White</td>\n",
       "      <td>57</td>\n",
       "      <td>Husband</td>\n",
       "      <td>Married</td>\n",
       "      <td>Male</td>\n",
       "      <td>Education officer, community</td>\n",
       "      <td>None</td>\n",
       "      <td>Christian</td>\n",
       "    </tr>\n",
       "    <tr>\n",
       "      <th>4</th>\n",
       "      <td>2</td>\n",
       "      <td>Forgotten Gardens</td>\n",
       "      <td>Jeffrey</td>\n",
       "      <td>John</td>\n",
       "      <td>9</td>\n",
       "      <td>Son</td>\n",
       "      <td>NaN</td>\n",
       "      <td>Male</td>\n",
       "      <td>Student</td>\n",
       "      <td>None</td>\n",
       "      <td>None</td>\n",
       "    </tr>\n",
       "    <tr>\n",
       "      <th>7</th>\n",
       "      <td>4</td>\n",
       "      <td>Forgotten Gardens</td>\n",
       "      <td>Gerard</td>\n",
       "      <td>Mills</td>\n",
       "      <td>5</td>\n",
       "      <td>Son</td>\n",
       "      <td>NaN</td>\n",
       "      <td>Male</td>\n",
       "      <td>Student</td>\n",
       "      <td>None</td>\n",
       "      <td>None</td>\n",
       "    </tr>\n",
       "    <tr>\n",
       "      <th>9</th>\n",
       "      <td>4</td>\n",
       "      <td>Forgotten Gardens</td>\n",
       "      <td>Leslie</td>\n",
       "      <td>Jones</td>\n",
       "      <td>3</td>\n",
       "      <td>Son</td>\n",
       "      <td>NaN</td>\n",
       "      <td>Male</td>\n",
       "      <td>Child</td>\n",
       "      <td>None</td>\n",
       "      <td>None</td>\n",
       "    </tr>\n",
       "    <tr>\n",
       "      <th>11</th>\n",
       "      <td>5</td>\n",
       "      <td>Forgotten Gardens</td>\n",
       "      <td>Rhys</td>\n",
       "      <td>Conway</td>\n",
       "      <td>41</td>\n",
       "      <td>Husband</td>\n",
       "      <td>Married</td>\n",
       "      <td>Male</td>\n",
       "      <td>Unemployed</td>\n",
       "      <td>None</td>\n",
       "      <td>None</td>\n",
       "    </tr>\n",
       "    <tr>\n",
       "      <th>...</th>\n",
       "      <td>...</td>\n",
       "      <td>...</td>\n",
       "      <td>...</td>\n",
       "      <td>...</td>\n",
       "      <td>...</td>\n",
       "      <td>...</td>\n",
       "      <td>...</td>\n",
       "      <td>...</td>\n",
       "      <td>...</td>\n",
       "      <td>...</td>\n",
       "      <td>...</td>\n",
       "    </tr>\n",
       "    <tr>\n",
       "      <th>7743</th>\n",
       "      <td>1</td>\n",
       "      <td>Cancer Palace</td>\n",
       "      <td>Geoffrey</td>\n",
       "      <td>Ferguson</td>\n",
       "      <td>13</td>\n",
       "      <td>Son</td>\n",
       "      <td>NaN</td>\n",
       "      <td>Male</td>\n",
       "      <td>Student</td>\n",
       "      <td>None</td>\n",
       "      <td>None</td>\n",
       "    </tr>\n",
       "    <tr>\n",
       "      <th>7749</th>\n",
       "      <td>1</td>\n",
       "      <td>Matthews Rectory</td>\n",
       "      <td>Keith</td>\n",
       "      <td>Hayes</td>\n",
       "      <td>25</td>\n",
       "      <td>Lodger</td>\n",
       "      <td>Single</td>\n",
       "      <td>Male</td>\n",
       "      <td>Programmer, systems</td>\n",
       "      <td>None</td>\n",
       "      <td>Christian</td>\n",
       "    </tr>\n",
       "    <tr>\n",
       "      <th>7755</th>\n",
       "      <td>1</td>\n",
       "      <td>Temple Rectory</td>\n",
       "      <td>Henry</td>\n",
       "      <td>Jenkins</td>\n",
       "      <td>41</td>\n",
       "      <td>Son</td>\n",
       "      <td>Single</td>\n",
       "      <td>Male</td>\n",
       "      <td>Restaurant manager, fast food</td>\n",
       "      <td>None</td>\n",
       "      <td>None</td>\n",
       "    </tr>\n",
       "    <tr>\n",
       "      <th>7757</th>\n",
       "      <td>1</td>\n",
       "      <td>Temple Rectory</td>\n",
       "      <td>Ashley</td>\n",
       "      <td>Jenkins</td>\n",
       "      <td>37</td>\n",
       "      <td>Son</td>\n",
       "      <td>Single</td>\n",
       "      <td>Male</td>\n",
       "      <td>Broadcast presenter</td>\n",
       "      <td>None</td>\n",
       "      <td>Christian</td>\n",
       "    </tr>\n",
       "    <tr>\n",
       "      <th>7759</th>\n",
       "      <td>1</td>\n",
       "      <td>Lee Villa</td>\n",
       "      <td>Duncan</td>\n",
       "      <td>Sims</td>\n",
       "      <td>63</td>\n",
       "      <td>Head</td>\n",
       "      <td>Single</td>\n",
       "      <td>Male</td>\n",
       "      <td>Child psychotherapist</td>\n",
       "      <td>None</td>\n",
       "      <td>None</td>\n",
       "    </tr>\n",
       "  </tbody>\n",
       "</table>\n",
       "<p>1849 rows × 11 columns</p>\n",
       "</div>"
      ],
      "text/plain": [
       "     House Number             Street First Name   Surname  Age  \\\n",
       "1               1  Forgotten Gardens     Elliot     White   57   \n",
       "4               2  Forgotten Gardens    Jeffrey      John    9   \n",
       "7               4  Forgotten Gardens     Gerard     Mills    5   \n",
       "9               4  Forgotten Gardens     Leslie     Jones    3   \n",
       "11              5  Forgotten Gardens       Rhys    Conway   41   \n",
       "...           ...                ...        ...       ...  ...   \n",
       "7743            1      Cancer Palace   Geoffrey  Ferguson   13   \n",
       "7749            1   Matthews Rectory      Keith     Hayes   25   \n",
       "7755            1     Temple Rectory      Henry   Jenkins   41   \n",
       "7757            1     Temple Rectory     Ashley   Jenkins   37   \n",
       "7759            1          Lee Villa     Duncan      Sims   63   \n",
       "\n",
       "     Relationship to Head of House Marital Status Gender  \\\n",
       "1                          Husband        Married   Male   \n",
       "4                              Son            NaN   Male   \n",
       "7                              Son            NaN   Male   \n",
       "9                              Son            NaN   Male   \n",
       "11                         Husband        Married   Male   \n",
       "...                            ...            ...    ...   \n",
       "7743                           Son            NaN   Male   \n",
       "7749                        Lodger         Single   Male   \n",
       "7755                           Son         Single   Male   \n",
       "7757                           Son         Single   Male   \n",
       "7759                          Head         Single   Male   \n",
       "\n",
       "                         Occupation Infirmity   Religion  \n",
       "1      Education officer, community      None  Christian  \n",
       "4                           Student      None       None  \n",
       "7                           Student      None       None  \n",
       "9                             Child      None       None  \n",
       "11                       Unemployed      None       None  \n",
       "...                             ...       ...        ...  \n",
       "7743                        Student      None       None  \n",
       "7749            Programmer, systems      None  Christian  \n",
       "7755  Restaurant manager, fast food      None       None  \n",
       "7757            Broadcast presenter      None  Christian  \n",
       "7759          Child psychotherapist      None       None  \n",
       "\n",
       "[1849 rows x 11 columns]"
      ]
     },
     "execution_count": 74,
     "metadata": {},
     "output_type": "execute_result"
    }
   ],
   "source": [
    "male_data = census[(census['Age']) & (census['Gender'] == 'Male')]\n",
    "\n",
    "male_data"
   ]
  },
  {
   "cell_type": "code",
   "execution_count": 75,
   "id": "65f03e46",
   "metadata": {},
   "outputs": [
    {
     "name": "stdout",
     "output_type": "stream",
     "text": [
      "None\n"
     ]
    }
   ],
   "source": [
    "def check_male(data):\n",
    "    for i in census['Gender']:\n",
    "        if i == 'Male':\n",
    "            x = census['Age']\n",
    "    \n",
    "print(check_male(x))"
   ]
  },
  {
   "cell_type": "code",
   "execution_count": 76,
   "id": "062fc4dd",
   "metadata": {},
   "outputs": [
    {
     "data": {
      "text/html": [
       "<div>\n",
       "<style scoped>\n",
       "    .dataframe tbody tr th:only-of-type {\n",
       "        vertical-align: middle;\n",
       "    }\n",
       "\n",
       "    .dataframe tbody tr th {\n",
       "        vertical-align: top;\n",
       "    }\n",
       "\n",
       "    .dataframe thead th {\n",
       "        text-align: right;\n",
       "    }\n",
       "</style>\n",
       "<table border=\"1\" class=\"dataframe\">\n",
       "  <thead>\n",
       "    <tr style=\"text-align: right;\">\n",
       "      <th></th>\n",
       "      <th></th>\n",
       "      <th>House Number</th>\n",
       "      <th>Street</th>\n",
       "      <th>First Name</th>\n",
       "      <th>Surname</th>\n",
       "      <th>Relationship to Head of House</th>\n",
       "      <th>Marital Status</th>\n",
       "      <th>Occupation</th>\n",
       "      <th>Infirmity</th>\n",
       "      <th>Religion</th>\n",
       "    </tr>\n",
       "    <tr>\n",
       "      <th>Age</th>\n",
       "      <th>Gender</th>\n",
       "      <th></th>\n",
       "      <th></th>\n",
       "      <th></th>\n",
       "      <th></th>\n",
       "      <th></th>\n",
       "      <th></th>\n",
       "      <th></th>\n",
       "      <th></th>\n",
       "      <th></th>\n",
       "    </tr>\n",
       "  </thead>\n",
       "  <tbody>\n",
       "    <tr>\n",
       "      <th rowspan=\"2\" valign=\"top\">0</th>\n",
       "      <th>Female</th>\n",
       "      <td>722261566723487161410618323606722592440748111</td>\n",
       "      <td>Fish HarborPillar AvenueHiggins BurgsBarbican ...</td>\n",
       "      <td>LynnBethanyJemmaKimberleyLynneJaniceHelenAngel...</td>\n",
       "      <td>TurnbullWrightSmithGregoryThomsonShepherdWalli...</td>\n",
       "      <td>DaughterDaughterDaughterGranddaughterDaughterD...</td>\n",
       "      <td>0</td>\n",
       "      <td>ChildChildChildChildChildChildChildChildChildC...</td>\n",
       "      <td>NoneNoneNoneNoneNoneNoneNoneNoneNoneNoneNoneNo...</td>\n",
       "      <td>NoneNoneNoneNoneNoneNoneNoneNoneNoneNoneNoneNo...</td>\n",
       "    </tr>\n",
       "    <tr>\n",
       "      <th>Male</th>\n",
       "      <td>8172714381835673202538530128159252161362445343...</td>\n",
       "      <td>Forgotten GardensQuayside DriveFish HarborFish...</td>\n",
       "      <td>HarryDouglasDenisDavidRhysBenjaminJamesBarrySt...</td>\n",
       "      <td>Fletcher-CoxChapman-DavisDaviesStoneHillMorris...</td>\n",
       "      <td>SonSonSonSonSonSonStep-SonSonSonSonSonSonSonSo...</td>\n",
       "      <td>0</td>\n",
       "      <td>ChildChildChildChildChildChildChildChildChildC...</td>\n",
       "      <td>NoneNoneNoneNoneNoneNoneNoneNoneNoneNoneNoneNo...</td>\n",
       "      <td>NoneNoneNoneNoneNoneNoneNoneNoneNoneNoneNoneNo...</td>\n",
       "    </tr>\n",
       "    <tr>\n",
       "      <th rowspan=\"2\" valign=\"top\">1</th>\n",
       "      <th>Female</th>\n",
       "      <td>2206253715183172552212512192546141178189189235...</td>\n",
       "      <td>Fish HarborFish HarborMatthews RiverThomas Bro...</td>\n",
       "      <td>AmeliaKayleighBeverleyDanielleAmandaCaroleSall...</td>\n",
       "      <td>DaviesWilsonFinch-TaylorKingOliverKempCraigMar...</td>\n",
       "      <td>DaughterDaughterDaughterDaughterDaughterDaught...</td>\n",
       "      <td>0</td>\n",
       "      <td>ChildChildChildChildChildChildChildChildChildC...</td>\n",
       "      <td>NoneNoneNoneNoneNoneNoneNoneNoneNoneNoneNoneNo...</td>\n",
       "      <td>NoneNoneNoneNoneNoneNoneNoneNoneNoneNoneNoneNo...</td>\n",
       "    </tr>\n",
       "    <tr>\n",
       "      <th>Male</th>\n",
       "      <td>3864041512372626153131520288431111172735978951...</td>\n",
       "      <td>Fish HarborMatthews RiverOaktree RoadOaktree R...</td>\n",
       "      <td>DuncanDennisStephenJamesAllanAdrianJohnOliverD...</td>\n",
       "      <td>WoodFinch-TaylorMooreHallHarrisHopkinsOliverPa...</td>\n",
       "      <td>SonSonSonSonSonSonSonSonSonSonSonSonSonSonSonS...</td>\n",
       "      <td>0</td>\n",
       "      <td>ChildChildChildChildChildChildChildChildChildC...</td>\n",
       "      <td>NoneNoneNoneNoneNoneNoneNoneNoneNoneNoneNoneNo...</td>\n",
       "      <td>NoneNoneNoneNoneNoneNoneNoneNoneNoneNoneNoneNo...</td>\n",
       "    </tr>\n",
       "    <tr>\n",
       "      <th>2</th>\n",
       "      <th>Female</th>\n",
       "      <td>9963858617313187191914251363929971431472148263...</td>\n",
       "      <td>Forgotten GardensForgotten GardensFish HarborF...</td>\n",
       "      <td>DanielleMaureenSylviaRosieLindseyElaineDianaJo...</td>\n",
       "      <td>RobinsonRobinsonHartleyWebbDaviesWatersBaileyB...</td>\n",
       "      <td>DaughterDaughterDaughterDaughterDaughterStep-D...</td>\n",
       "      <td>0</td>\n",
       "      <td>ChildChildChildChildChildChildChildChildChildC...</td>\n",
       "      <td>NoneNoneNoneNoneNoneNoneNoneNoneNoneNoneNoneNo...</td>\n",
       "      <td>NoneNoneNoneNoneNoneNoneNoneNoneNoneNoneNoneNo...</td>\n",
       "    </tr>\n",
       "    <tr>\n",
       "      <th>...</th>\n",
       "      <th>...</th>\n",
       "      <td>...</td>\n",
       "      <td>...</td>\n",
       "      <td>...</td>\n",
       "      <td>...</td>\n",
       "      <td>...</td>\n",
       "      <td>...</td>\n",
       "      <td>...</td>\n",
       "      <td>...</td>\n",
       "      <td>...</td>\n",
       "    </tr>\n",
       "    <tr>\n",
       "      <th>102</th>\n",
       "      <th>Male</th>\n",
       "      <td>14</td>\n",
       "      <td>Kraken Road</td>\n",
       "      <td>Dominic</td>\n",
       "      <td>Moore</td>\n",
       "      <td>Head</td>\n",
       "      <td>Married</td>\n",
       "      <td>Retired Retail banker</td>\n",
       "      <td>None</td>\n",
       "      <td>None</td>\n",
       "    </tr>\n",
       "    <tr>\n",
       "      <th>103</th>\n",
       "      <th>Female</th>\n",
       "      <td>27</td>\n",
       "      <td>Khan Valley</td>\n",
       "      <td>Rosemary</td>\n",
       "      <td>Thomas</td>\n",
       "      <td>Head</td>\n",
       "      <td>Widowed</td>\n",
       "      <td>Retired Industrial/product designer</td>\n",
       "      <td>None</td>\n",
       "      <td>Christian</td>\n",
       "    </tr>\n",
       "    <tr>\n",
       "      <th rowspan=\"2\" valign=\"top\">104</th>\n",
       "      <th>Female</th>\n",
       "      <td>521</td>\n",
       "      <td>Aprildraw AvenueKraken Road</td>\n",
       "      <td>BrendaTeresa</td>\n",
       "      <td>CoxDean</td>\n",
       "      <td>HeadHead</td>\n",
       "      <td>DivorcedDivorced</td>\n",
       "      <td>Retired Sports administratorRetired Science wr...</td>\n",
       "      <td>NoneNone</td>\n",
       "      <td>ChristianNone</td>\n",
       "    </tr>\n",
       "    <tr>\n",
       "      <th>Male</th>\n",
       "      <td>7</td>\n",
       "      <td>Higgins Burgs</td>\n",
       "      <td>Patrick</td>\n",
       "      <td>Ellis</td>\n",
       "      <td>Head</td>\n",
       "      <td>Divorced</td>\n",
       "      <td>Retired Psychologist, forensic</td>\n",
       "      <td>None</td>\n",
       "      <td>Christian</td>\n",
       "    </tr>\n",
       "    <tr>\n",
       "      <th>105</th>\n",
       "      <th>Male</th>\n",
       "      <td>41</td>\n",
       "      <td>Kielder Avenue</td>\n",
       "      <td>Jay</td>\n",
       "      <td>Harrison</td>\n",
       "      <td>Head</td>\n",
       "      <td>Widowed</td>\n",
       "      <td>Retired Barrister</td>\n",
       "      <td>None</td>\n",
       "      <td>Sikh</td>\n",
       "    </tr>\n",
       "  </tbody>\n",
       "</table>\n",
       "<p>202 rows × 9 columns</p>\n",
       "</div>"
      ],
      "text/plain": [
       "                                                 House Number  \\\n",
       "Age Gender                                                      \n",
       "0   Female      722261566723487161410618323606722592440748111   \n",
       "    Male    8172714381835673202538530128159252161362445343...   \n",
       "1   Female  2206253715183172552212512192546141178189189235...   \n",
       "    Male    3864041512372626153131520288431111172735978951...   \n",
       "2   Female  9963858617313187191914251363929971431472148263...   \n",
       "...                                                       ...   \n",
       "102 Male                                                   14   \n",
       "103 Female                                                 27   \n",
       "104 Female                                                521   \n",
       "    Male                                                    7   \n",
       "105 Male                                                   41   \n",
       "\n",
       "                                                       Street  \\\n",
       "Age Gender                                                      \n",
       "0   Female  Fish HarborPillar AvenueHiggins BurgsBarbican ...   \n",
       "    Male    Forgotten GardensQuayside DriveFish HarborFish...   \n",
       "1   Female  Fish HarborFish HarborMatthews RiverThomas Bro...   \n",
       "    Male    Fish HarborMatthews RiverOaktree RoadOaktree R...   \n",
       "2   Female  Forgotten GardensForgotten GardensFish HarborF...   \n",
       "...                                                       ...   \n",
       "102 Male                                          Kraken Road   \n",
       "103 Female                                        Khan Valley   \n",
       "104 Female                        Aprildraw AvenueKraken Road   \n",
       "    Male                                        Higgins Burgs   \n",
       "105 Male                                       Kielder Avenue   \n",
       "\n",
       "                                                   First Name  \\\n",
       "Age Gender                                                      \n",
       "0   Female  LynnBethanyJemmaKimberleyLynneJaniceHelenAngel...   \n",
       "    Male    HarryDouglasDenisDavidRhysBenjaminJamesBarrySt...   \n",
       "1   Female  AmeliaKayleighBeverleyDanielleAmandaCaroleSall...   \n",
       "    Male    DuncanDennisStephenJamesAllanAdrianJohnOliverD...   \n",
       "2   Female  DanielleMaureenSylviaRosieLindseyElaineDianaJo...   \n",
       "...                                                       ...   \n",
       "102 Male                                              Dominic   \n",
       "103 Female                                           Rosemary   \n",
       "104 Female                                       BrendaTeresa   \n",
       "    Male                                              Patrick   \n",
       "105 Male                                                  Jay   \n",
       "\n",
       "                                                      Surname  \\\n",
       "Age Gender                                                      \n",
       "0   Female  TurnbullWrightSmithGregoryThomsonShepherdWalli...   \n",
       "    Male    Fletcher-CoxChapman-DavisDaviesStoneHillMorris...   \n",
       "1   Female  DaviesWilsonFinch-TaylorKingOliverKempCraigMar...   \n",
       "    Male    WoodFinch-TaylorMooreHallHarrisHopkinsOliverPa...   \n",
       "2   Female  RobinsonRobinsonHartleyWebbDaviesWatersBaileyB...   \n",
       "...                                                       ...   \n",
       "102 Male                                                Moore   \n",
       "103 Female                                             Thomas   \n",
       "104 Female                                            CoxDean   \n",
       "    Male                                                Ellis   \n",
       "105 Male                                             Harrison   \n",
       "\n",
       "                                Relationship to Head of House  \\\n",
       "Age Gender                                                      \n",
       "0   Female  DaughterDaughterDaughterGranddaughterDaughterD...   \n",
       "    Male    SonSonSonSonSonSonStep-SonSonSonSonSonSonSonSo...   \n",
       "1   Female  DaughterDaughterDaughterDaughterDaughterDaught...   \n",
       "    Male    SonSonSonSonSonSonSonSonSonSonSonSonSonSonSonS...   \n",
       "2   Female  DaughterDaughterDaughterDaughterDaughterStep-D...   \n",
       "...                                                       ...   \n",
       "102 Male                                                 Head   \n",
       "103 Female                                               Head   \n",
       "104 Female                                           HeadHead   \n",
       "    Male                                                 Head   \n",
       "105 Male                                                 Head   \n",
       "\n",
       "              Marital Status  \\\n",
       "Age Gender                     \n",
       "0   Female                 0   \n",
       "    Male                   0   \n",
       "1   Female                 0   \n",
       "    Male                   0   \n",
       "2   Female                 0   \n",
       "...                      ...   \n",
       "102 Male             Married   \n",
       "103 Female           Widowed   \n",
       "104 Female  DivorcedDivorced   \n",
       "    Male            Divorced   \n",
       "105 Male             Widowed   \n",
       "\n",
       "                                                   Occupation  \\\n",
       "Age Gender                                                      \n",
       "0   Female  ChildChildChildChildChildChildChildChildChildC...   \n",
       "    Male    ChildChildChildChildChildChildChildChildChildC...   \n",
       "1   Female  ChildChildChildChildChildChildChildChildChildC...   \n",
       "    Male    ChildChildChildChildChildChildChildChildChildC...   \n",
       "2   Female  ChildChildChildChildChildChildChildChildChildC...   \n",
       "...                                                       ...   \n",
       "102 Male                                Retired Retail banker   \n",
       "103 Female                Retired Industrial/product designer   \n",
       "104 Female  Retired Sports administratorRetired Science wr...   \n",
       "    Male                       Retired Psychologist, forensic   \n",
       "105 Male                                    Retired Barrister   \n",
       "\n",
       "                                                    Infirmity  \\\n",
       "Age Gender                                                      \n",
       "0   Female  NoneNoneNoneNoneNoneNoneNoneNoneNoneNoneNoneNo...   \n",
       "    Male    NoneNoneNoneNoneNoneNoneNoneNoneNoneNoneNoneNo...   \n",
       "1   Female  NoneNoneNoneNoneNoneNoneNoneNoneNoneNoneNoneNo...   \n",
       "    Male    NoneNoneNoneNoneNoneNoneNoneNoneNoneNoneNoneNo...   \n",
       "2   Female  NoneNoneNoneNoneNoneNoneNoneNoneNoneNoneNoneNo...   \n",
       "...                                                       ...   \n",
       "102 Male                                                 None   \n",
       "103 Female                                               None   \n",
       "104 Female                                           NoneNone   \n",
       "    Male                                                 None   \n",
       "105 Male                                                 None   \n",
       "\n",
       "                                                     Religion  \n",
       "Age Gender                                                     \n",
       "0   Female  NoneNoneNoneNoneNoneNoneNoneNoneNoneNoneNoneNo...  \n",
       "    Male    NoneNoneNoneNoneNoneNoneNoneNoneNoneNoneNoneNo...  \n",
       "1   Female  NoneNoneNoneNoneNoneNoneNoneNoneNoneNoneNoneNo...  \n",
       "    Male    NoneNoneNoneNoneNoneNoneNoneNoneNoneNoneNoneNo...  \n",
       "2   Female  NoneNoneNoneNoneNoneNoneNoneNoneNoneNoneNoneNo...  \n",
       "...                                                       ...  \n",
       "102 Male                                                 None  \n",
       "103 Female                                          Christian  \n",
       "104 Female                                      ChristianNone  \n",
       "    Male                                            Christian  \n",
       "105 Male                                                 Sikh  \n",
       "\n",
       "[202 rows x 9 columns]"
      ]
     },
     "execution_count": 76,
     "metadata": {},
     "output_type": "execute_result"
    }
   ],
   "source": [
    "group = census.groupby(['Age', 'Gender']).sum()\n",
    "\n",
    "group"
   ]
  },
  {
   "cell_type": "code",
   "execution_count": 77,
   "id": "dc617fb2",
   "metadata": {},
   "outputs": [
    {
     "data": {
      "text/html": [
       "<div>\n",
       "<style scoped>\n",
       "    .dataframe tbody tr th:only-of-type {\n",
       "        vertical-align: middle;\n",
       "    }\n",
       "\n",
       "    .dataframe tbody tr th {\n",
       "        vertical-align: top;\n",
       "    }\n",
       "\n",
       "    .dataframe thead th {\n",
       "        text-align: right;\n",
       "    }\n",
       "</style>\n",
       "<table border=\"1\" class=\"dataframe\">\n",
       "  <thead>\n",
       "    <tr style=\"text-align: right;\">\n",
       "      <th></th>\n",
       "      <th>House Number</th>\n",
       "      <th>Street</th>\n",
       "      <th>First Name</th>\n",
       "      <th>Surname</th>\n",
       "      <th>Age</th>\n",
       "      <th>Relationship to Head of House</th>\n",
       "      <th>Marital Status</th>\n",
       "      <th>Gender</th>\n",
       "      <th>Occupation</th>\n",
       "      <th>Infirmity</th>\n",
       "      <th>Religion</th>\n",
       "    </tr>\n",
       "  </thead>\n",
       "  <tbody>\n",
       "    <tr>\n",
       "      <th>0</th>\n",
       "      <td>1</td>\n",
       "      <td>Forgotten Gardens</td>\n",
       "      <td>Laura</td>\n",
       "      <td>White</td>\n",
       "      <td>56</td>\n",
       "      <td>Head</td>\n",
       "      <td>Married</td>\n",
       "      <td>Female</td>\n",
       "      <td>Unemployed</td>\n",
       "      <td>None</td>\n",
       "      <td>Christian</td>\n",
       "    </tr>\n",
       "    <tr>\n",
       "      <th>1</th>\n",
       "      <td>1</td>\n",
       "      <td>Forgotten Gardens</td>\n",
       "      <td>Elliot</td>\n",
       "      <td>White</td>\n",
       "      <td>57</td>\n",
       "      <td>Husband</td>\n",
       "      <td>Married</td>\n",
       "      <td>Male</td>\n",
       "      <td>Education officer, community</td>\n",
       "      <td>None</td>\n",
       "      <td>Christian</td>\n",
       "    </tr>\n",
       "    <tr>\n",
       "      <th>2</th>\n",
       "      <td>1</td>\n",
       "      <td>Forgotten Gardens</td>\n",
       "      <td>Nicole</td>\n",
       "      <td>White</td>\n",
       "      <td>15</td>\n",
       "      <td>Daughter</td>\n",
       "      <td>NaN</td>\n",
       "      <td>Female</td>\n",
       "      <td>Student</td>\n",
       "      <td>None</td>\n",
       "      <td>None</td>\n",
       "    </tr>\n",
       "    <tr>\n",
       "      <th>3</th>\n",
       "      <td>2</td>\n",
       "      <td>Forgotten Gardens</td>\n",
       "      <td>Michelle</td>\n",
       "      <td>John</td>\n",
       "      <td>44</td>\n",
       "      <td>Head</td>\n",
       "      <td>Divorced</td>\n",
       "      <td>Female</td>\n",
       "      <td>Administrator, arts</td>\n",
       "      <td>None</td>\n",
       "      <td>Christian</td>\n",
       "    </tr>\n",
       "    <tr>\n",
       "      <th>4</th>\n",
       "      <td>2</td>\n",
       "      <td>Forgotten Gardens</td>\n",
       "      <td>Jeffrey</td>\n",
       "      <td>John</td>\n",
       "      <td>9</td>\n",
       "      <td>Son</td>\n",
       "      <td>NaN</td>\n",
       "      <td>Male</td>\n",
       "      <td>Student</td>\n",
       "      <td>None</td>\n",
       "      <td>None</td>\n",
       "    </tr>\n",
       "    <tr>\n",
       "      <th>...</th>\n",
       "      <td>...</td>\n",
       "      <td>...</td>\n",
       "      <td>...</td>\n",
       "      <td>...</td>\n",
       "      <td>...</td>\n",
       "      <td>...</td>\n",
       "      <td>...</td>\n",
       "      <td>...</td>\n",
       "      <td>...</td>\n",
       "      <td>...</td>\n",
       "      <td>...</td>\n",
       "    </tr>\n",
       "    <tr>\n",
       "      <th>7768</th>\n",
       "      <td>1</td>\n",
       "      <td>Fletcher Farmhouse</td>\n",
       "      <td>Beverley</td>\n",
       "      <td>Hudson</td>\n",
       "      <td>30</td>\n",
       "      <td>Head</td>\n",
       "      <td>Divorced</td>\n",
       "      <td>Female</td>\n",
       "      <td>Research officer, trade union</td>\n",
       "      <td>None</td>\n",
       "      <td>Christian</td>\n",
       "    </tr>\n",
       "    <tr>\n",
       "      <th>7769</th>\n",
       "      <td>1</td>\n",
       "      <td>Fletcher Farmhouse</td>\n",
       "      <td>Rachael</td>\n",
       "      <td>Hudson</td>\n",
       "      <td>0</td>\n",
       "      <td>Daughter</td>\n",
       "      <td>NaN</td>\n",
       "      <td>Female</td>\n",
       "      <td>Child</td>\n",
       "      <td>None</td>\n",
       "      <td>None</td>\n",
       "    </tr>\n",
       "    <tr>\n",
       "      <th>7770</th>\n",
       "      <td>1</td>\n",
       "      <td>Fletcher Farmhouse</td>\n",
       "      <td>Stephen</td>\n",
       "      <td>Shepherd</td>\n",
       "      <td>54</td>\n",
       "      <td>Sibling</td>\n",
       "      <td>Divorced</td>\n",
       "      <td>Male</td>\n",
       "      <td>Accountant, chartered public finance</td>\n",
       "      <td>None</td>\n",
       "      <td>None</td>\n",
       "    </tr>\n",
       "    <tr>\n",
       "      <th>7771</th>\n",
       "      <td>1</td>\n",
       "      <td>Fletcher Farmhouse</td>\n",
       "      <td>William</td>\n",
       "      <td>French</td>\n",
       "      <td>48</td>\n",
       "      <td>Lodger</td>\n",
       "      <td>Single</td>\n",
       "      <td>Male</td>\n",
       "      <td>Unemployed</td>\n",
       "      <td>None</td>\n",
       "      <td>Christian</td>\n",
       "    </tr>\n",
       "    <tr>\n",
       "      <th>7772</th>\n",
       "      <td>1</td>\n",
       "      <td>Fletcher Farmhouse</td>\n",
       "      <td>Deborah</td>\n",
       "      <td>Yates</td>\n",
       "      <td>34</td>\n",
       "      <td>Lodger</td>\n",
       "      <td>Single</td>\n",
       "      <td>Female</td>\n",
       "      <td>Geographical information systems officer</td>\n",
       "      <td>None</td>\n",
       "      <td>None</td>\n",
       "    </tr>\n",
       "  </tbody>\n",
       "</table>\n",
       "<p>7773 rows × 11 columns</p>\n",
       "</div>"
      ],
      "text/plain": [
       "     House Number              Street First Name   Surname  Age  \\\n",
       "0               1   Forgotten Gardens      Laura     White   56   \n",
       "1               1   Forgotten Gardens     Elliot     White   57   \n",
       "2               1   Forgotten Gardens     Nicole     White   15   \n",
       "3               2   Forgotten Gardens   Michelle      John   44   \n",
       "4               2   Forgotten Gardens    Jeffrey      John    9   \n",
       "...           ...                 ...        ...       ...  ...   \n",
       "7768            1  Fletcher Farmhouse   Beverley    Hudson   30   \n",
       "7769            1  Fletcher Farmhouse    Rachael    Hudson    0   \n",
       "7770            1  Fletcher Farmhouse    Stephen  Shepherd   54   \n",
       "7771            1  Fletcher Farmhouse    William    French   48   \n",
       "7772            1  Fletcher Farmhouse    Deborah     Yates   34   \n",
       "\n",
       "     Relationship to Head of House Marital Status  Gender  \\\n",
       "0                             Head        Married  Female   \n",
       "1                          Husband        Married    Male   \n",
       "2                         Daughter            NaN  Female   \n",
       "3                             Head       Divorced  Female   \n",
       "4                              Son            NaN    Male   \n",
       "...                            ...            ...     ...   \n",
       "7768                          Head       Divorced  Female   \n",
       "7769                      Daughter            NaN  Female   \n",
       "7770                       Sibling       Divorced    Male   \n",
       "7771                        Lodger         Single    Male   \n",
       "7772                        Lodger         Single  Female   \n",
       "\n",
       "                                    Occupation Infirmity   Religion  \n",
       "0                                   Unemployed      None  Christian  \n",
       "1                 Education officer, community      None  Christian  \n",
       "2                                      Student      None       None  \n",
       "3                          Administrator, arts      None  Christian  \n",
       "4                                      Student      None       None  \n",
       "...                                        ...       ...        ...  \n",
       "7768             Research officer, trade union      None  Christian  \n",
       "7769                                     Child      None       None  \n",
       "7770      Accountant, chartered public finance      None       None  \n",
       "7771                                Unemployed      None  Christian  \n",
       "7772  Geographical information systems officer      None       None  \n",
       "\n",
       "[7773 rows x 11 columns]"
      ]
     },
     "execution_count": 77,
     "metadata": {},
     "output_type": "execute_result"
    }
   ],
   "source": [
    "census"
   ]
  },
  {
   "cell_type": "code",
   "execution_count": null,
   "id": "3aa13bdc",
   "metadata": {},
   "outputs": [],
   "source": []
  },
  {
   "cell_type": "code",
   "execution_count": 93,
   "id": "a558fcec",
   "metadata": {},
   "outputs": [
    {
     "data": {
      "text/plain": [
       "count       5960\n",
       "unique         4\n",
       "top       Single\n",
       "freq        2662\n",
       "Name: Marital Status, dtype: object"
      ]
     },
     "execution_count": 93,
     "metadata": {},
     "output_type": "execute_result"
    }
   ],
   "source": [
    "# percentile list\n",
    "perc =[.20, .40, .60, .80]\n",
    "  \n",
    "# list of dtypes to include\n",
    "include =['object', 'float', 'int']\n",
    "\n",
    "mc = census['Marital Status'].describe(percentiles = perc, include = include)\n",
    "\n",
    "mc"
   ]
  },
  {
   "cell_type": "code",
   "execution_count": 104,
   "id": "b19aa051",
   "metadata": {},
   "outputs": [
    {
     "data": {
      "image/png": "[encoded data removed]",
      "text/plain": [
       "<Figure size 432x288 with 1 Axes>"
      ]
     },
     "metadata": {
      "needs_background": "light"
     },
     "output_type": "display_data"
    }
   ],
   "source": [
    "from matplotlib import pyplot as plt\n",
    "sns.boxplot(data=census, x=\"Age\", y=\"Marital Status\" )\n",
    "plt.show()"
   ]
  },
  {
   "cell_type": "code",
   "execution_count": null,
   "id": "129e8c03",
   "metadata": {},
   "outputs": [],
   "source": []
  },
  {
   "cell_type": "code",
   "execution_count": 117,
   "id": "4bf495af",
   "metadata": {},
   "outputs": [
    {
     "name": "stdout",
     "output_type": "stream",
     "text": [
      "0       56\n",
      "1       57\n",
      "2       15\n",
      "3       44\n",
      "4        9\n",
      "        ..\n",
      "7768    30\n",
      "7769     0\n",
      "7770    54\n",
      "7771    48\n",
      "7772    34\n",
      "Name: Age, Length: 7773, dtype: int64\n"
     ]
    }
   ],
   "source": [
    "for column in census['Gender']:\n",
    "    if column == 'Male':\n",
    "        x = census['Age']\n",
    "        \n",
    "\n",
    "print(x)\n",
    "        \n",
    "    \n",
    "\n",
    "\n",
    "# male_data = census[(census['Gender'] == 'Male')]\n",
    "\n"
   ]
  },
  {
   "cell_type": "markdown",
   "id": "4bdbf96f",
   "metadata": {},
   "source": [
    "## Creating the Age Pyramid"
   ]
  },
  {
   "cell_type": "code",
   "execution_count": 166,
   "id": "9af39f7d",
   "metadata": {},
   "outputs": [],
   "source": [
    "census['Age Range'] = pd.cut(census.Age, bins = [0,4,9,14,19,24,29,34,39,44,49,54,59,64,69,74,79,84,89,94,99,100])\n",
    "# labels = ['0-4','5-9', '10-14','15-19','20-24','25-29','30-34','35-39','40-44','45-49','50-54','55-59','60-64','65-69','70-74','75-79','80-84','85-89','90-94','95-99','100+']"
   ]
  },
  {
   "cell_type": "code",
   "execution_count": 167,
   "id": "f7898333",
   "metadata": {},
   "outputs": [],
   "source": [
    "#Grouping the dataset by gender i.e Male and Female\n",
    "Male = census[(census['Gender'] == 'Male')]\n",
    "Female = census[(census['Gender'] == 'Female')]\n",
    "\n",
    "General = census['Gender']"
   ]
  },
  {
   "cell_type": "code",
   "execution_count": 168,
   "id": "dae7b9dd",
   "metadata": {},
   "outputs": [],
   "source": [
    "#Age counts based on the Age range for Male\n",
    "Male_count = Male['Age Range'].value_counts()\n",
    "Male_count = list(-Male_count)\n",
    "Male_count.reverse()\n",
    "#Age counts based on the Age range for Female\n",
    "Female_count = Female['Age Range'].value_counts()\n",
    "Female_count = list(Female_count)\n",
    "Female_count.reverse()\n",
    "\n",
    "\n",
    "# General_count = General['Age Range'].value_counts()\n",
    "# General_count = list(General_count)\n",
    "# General_count.reverse()\n",
    "Age_bins = ['0-4','5-9', '10-14','15-19','20-24','25-29','30-34','35-39','40-44','45-49','50-54','55-59','60-64','65-69','70-74','75-79','80-84','85-89','90-94','95-99','100+']\n",
    "Age_bins.reverse()"
   ]
  },
  {
   "cell_type": "code",
   "execution_count": 169,
   "id": "dc023ab5",
   "metadata": {},
   "outputs": [
    {
     "name": "stdout",
     "output_type": "stream",
     "text": [
      "['100+', '95-99', '90-94', '85-89', '80-84', '75-79', '70-74', '65-69', '60-64', '55-59', '50-54', '45-49', '40-44', '35-39', '30-34', '25-29', '20-24', '15-19', '10-14', '5-9', '0-4']\n"
     ]
    }
   ],
   "source": [
    "print (Age_bins)"
   ]
  },
  {
   "cell_type": "code",
   "execution_count": 170,
   "id": "d2b17387",
   "metadata": {},
   "outputs": [
    {
     "name": "stdout",
     "output_type": "stream",
     "text": [
      "[-3, -5, -7, -38, -54, -80, -98, -99, -175, -192, -202, -216, -244, -246, -248, -250, -262, -272, -273, -282, -288, 4, 5, 5, 35, 66, 93, 138, 142, 166, 172, 209, 225, 242, 256, 270, 271, 275, 281, 315, 324, 369]\n"
     ]
    }
   ],
   "source": [
    "print (general)"
   ]
  },
  {
   "cell_type": "code",
   "execution_count": 171,
   "id": "cc7b99f0",
   "metadata": {},
   "outputs": [
    {
     "name": "stdout",
     "output_type": "stream",
     "text": [
      "[0, 5, 5, 35, 66, 93, 138, 142, 166, 172, 209, 225, 242, 256, 270, 271, 275, 281, 315, 324, 369]\n"
     ]
    }
   ],
   "source": [
    "print (Female_count)\n"
   ]
  },
  {
   "cell_type": "code",
   "execution_count": 172,
   "id": "3e7e0adc",
   "metadata": {},
   "outputs": [
    {
     "name": "stdout",
     "output_type": "stream",
     "text": [
      "[0, -5, -7, -38, -54, -80, -98, -99, -175, -192, -202, -216, -244, -246, -248, -250, -262, -272, -273, -282, -288]\n"
     ]
    }
   ],
   "source": [
    "print (Male_count)"
   ]
  },
  {
   "cell_type": "code",
   "execution_count": null,
   "id": "b15a699f",
   "metadata": {},
   "outputs": [],
   "source": []
  },
  {
   "cell_type": "code",
   "execution_count": 173,
   "id": "efe976f6",
   "metadata": {},
   "outputs": [],
   "source": [
    "pyramid_table = pd.DataFrame({'Age_bins': Age_bins, 'Male': Male_count, 'Female': Female_count,})"
   ]
  },
  {
   "cell_type": "code",
   "execution_count": 174,
   "id": "9ba222b7",
   "metadata": {},
   "outputs": [
    {
     "data": {
      "text/html": [
       "<div>\n",
       "<style scoped>\n",
       "    .dataframe tbody tr th:only-of-type {\n",
       "        vertical-align: middle;\n",
       "    }\n",
       "\n",
       "    .dataframe tbody tr th {\n",
       "        vertical-align: top;\n",
       "    }\n",
       "\n",
       "    .dataframe thead th {\n",
       "        text-align: right;\n",
       "    }\n",
       "</style>\n",
       "<table border=\"1\" class=\"dataframe\">\n",
       "  <thead>\n",
       "    <tr style=\"text-align: right;\">\n",
       "      <th></th>\n",
       "      <th>Age_bins</th>\n",
       "      <th>Male</th>\n",
       "      <th>Female</th>\n",
       "    </tr>\n",
       "  </thead>\n",
       "  <tbody>\n",
       "    <tr>\n",
       "      <th>0</th>\n",
       "      <td>100+</td>\n",
       "      <td>0</td>\n",
       "      <td>0</td>\n",
       "    </tr>\n",
       "    <tr>\n",
       "      <th>1</th>\n",
       "      <td>95-99</td>\n",
       "      <td>-5</td>\n",
       "      <td>5</td>\n",
       "    </tr>\n",
       "    <tr>\n",
       "      <th>2</th>\n",
       "      <td>90-94</td>\n",
       "      <td>-7</td>\n",
       "      <td>5</td>\n",
       "    </tr>\n",
       "    <tr>\n",
       "      <th>3</th>\n",
       "      <td>85-89</td>\n",
       "      <td>-38</td>\n",
       "      <td>35</td>\n",
       "    </tr>\n",
       "    <tr>\n",
       "      <th>4</th>\n",
       "      <td>80-84</td>\n",
       "      <td>-54</td>\n",
       "      <td>66</td>\n",
       "    </tr>\n",
       "    <tr>\n",
       "      <th>5</th>\n",
       "      <td>75-79</td>\n",
       "      <td>-80</td>\n",
       "      <td>93</td>\n",
       "    </tr>\n",
       "    <tr>\n",
       "      <th>6</th>\n",
       "      <td>70-74</td>\n",
       "      <td>-98</td>\n",
       "      <td>138</td>\n",
       "    </tr>\n",
       "    <tr>\n",
       "      <th>7</th>\n",
       "      <td>65-69</td>\n",
       "      <td>-99</td>\n",
       "      <td>142</td>\n",
       "    </tr>\n",
       "    <tr>\n",
       "      <th>8</th>\n",
       "      <td>60-64</td>\n",
       "      <td>-175</td>\n",
       "      <td>166</td>\n",
       "    </tr>\n",
       "    <tr>\n",
       "      <th>9</th>\n",
       "      <td>55-59</td>\n",
       "      <td>-192</td>\n",
       "      <td>172</td>\n",
       "    </tr>\n",
       "    <tr>\n",
       "      <th>10</th>\n",
       "      <td>50-54</td>\n",
       "      <td>-202</td>\n",
       "      <td>209</td>\n",
       "    </tr>\n",
       "    <tr>\n",
       "      <th>11</th>\n",
       "      <td>45-49</td>\n",
       "      <td>-216</td>\n",
       "      <td>225</td>\n",
       "    </tr>\n",
       "    <tr>\n",
       "      <th>12</th>\n",
       "      <td>40-44</td>\n",
       "      <td>-244</td>\n",
       "      <td>242</td>\n",
       "    </tr>\n",
       "    <tr>\n",
       "      <th>13</th>\n",
       "      <td>35-39</td>\n",
       "      <td>-246</td>\n",
       "      <td>256</td>\n",
       "    </tr>\n",
       "    <tr>\n",
       "      <th>14</th>\n",
       "      <td>30-34</td>\n",
       "      <td>-248</td>\n",
       "      <td>270</td>\n",
       "    </tr>\n",
       "    <tr>\n",
       "      <th>15</th>\n",
       "      <td>25-29</td>\n",
       "      <td>-250</td>\n",
       "      <td>271</td>\n",
       "    </tr>\n",
       "    <tr>\n",
       "      <th>16</th>\n",
       "      <td>20-24</td>\n",
       "      <td>-262</td>\n",
       "      <td>275</td>\n",
       "    </tr>\n",
       "    <tr>\n",
       "      <th>17</th>\n",
       "      <td>15-19</td>\n",
       "      <td>-272</td>\n",
       "      <td>281</td>\n",
       "    </tr>\n",
       "    <tr>\n",
       "      <th>18</th>\n",
       "      <td>10-14</td>\n",
       "      <td>-273</td>\n",
       "      <td>315</td>\n",
       "    </tr>\n",
       "    <tr>\n",
       "      <th>19</th>\n",
       "      <td>5-9</td>\n",
       "      <td>-282</td>\n",
       "      <td>324</td>\n",
       "    </tr>\n",
       "    <tr>\n",
       "      <th>20</th>\n",
       "      <td>0-4</td>\n",
       "      <td>-288</td>\n",
       "      <td>369</td>\n",
       "    </tr>\n",
       "  </tbody>\n",
       "</table>\n",
       "</div>"
      ],
      "text/plain": [
       "   Age_bins  Male  Female\n",
       "0      100+     0       0\n",
       "1     95-99    -5       5\n",
       "2     90-94    -7       5\n",
       "3     85-89   -38      35\n",
       "4     80-84   -54      66\n",
       "5     75-79   -80      93\n",
       "6     70-74   -98     138\n",
       "7     65-69   -99     142\n",
       "8     60-64  -175     166\n",
       "9     55-59  -192     172\n",
       "10    50-54  -202     209\n",
       "11    45-49  -216     225\n",
       "12    40-44  -244     242\n",
       "13    35-39  -246     256\n",
       "14    30-34  -248     270\n",
       "15    25-29  -250     271\n",
       "16    20-24  -262     275\n",
       "17    15-19  -272     281\n",
       "18    10-14  -273     315\n",
       "19      5-9  -282     324\n",
       "20      0-4  -288     369"
      ]
     },
     "execution_count": 174,
     "metadata": {},
     "output_type": "execute_result"
    }
   ],
   "source": [
    "pyramid_table"
   ]
  },
  {
   "cell_type": "code",
   "execution_count": 175,
   "id": "7520940f",
   "metadata": {
    "scrolled": false
   },
   "outputs": [
    {
     "data": {
      "text/plain": [
       "Text(0.5, 1.0, 'Age Pyramid')"
      ]
     },
     "execution_count": 175,
     "metadata": {},
     "output_type": "execute_result"
    },
    {
     "data": {
      "image/png": "[encoded data removed]",
      "text/plain": [
       "<Figure size 1080x720 with 1 Axes>"
      ]
     },
     "metadata": {
      "needs_background": "light"
     },
     "output_type": "display_data"
    }
   ],
   "source": [
    "plt.figure(figsize = (15,10))\n",
    "pyramid_plot = sns.barplot(x ='Male', y = 'Age_bins', data = pyramid_table, color=('gray'), label = 'Male')\n",
    "pyramid_plot = sns.barplot(x = 'Female', y = 'Age_bins', data = pyramid_table, color=('orange'), label = 'Female')\n",
    "pyramid_plot.legend()\n",
    "pyramid_plot.set(xlabel = 'Count', ylabel = 'Age_Range')\n",
    "plt.title ('Age Pyramid')"
   ]
  },
  {
   "cell_type": "code",
   "execution_count": null,
   "id": "f56917b7",
   "metadata": {},
   "outputs": [],
   "source": []
  },
  {
   "cell_type": "code",
   "execution_count": 176,
   "id": "303769b2",
   "metadata": {},
   "outputs": [
    {
     "data": {
      "text/plain": [
       "Unnamed: 0                       433\n",
       "House Number                     433\n",
       "Street                           433\n",
       "First Name                       433\n",
       "Surname                          433\n",
       "Age                              433\n",
       "Relationship to Head of House    433\n",
       "Marital Status                     0\n",
       "Gender                           433\n",
       "Occupation                       433\n",
       "Infirmity                        433\n",
       "Religion                           0\n",
       "Age Range                        373\n",
       "dtype: int64"
      ]
     },
     "execution_count": 176,
     "metadata": {},
     "output_type": "execute_result"
    }
   ],
   "source": [
    "child = census[(census['Occupation'] == 'Child')]\n",
    "\n",
    "child.count()"
   ]
  },
  {
   "cell_type": "code",
   "execution_count": null,
   "id": "5a437079",
   "metadata": {},
   "outputs": [],
   "source": [
    "cen"
   ]
  }
 ],
 "metadata": {
  "kernelspec": {
   "display_name": "Python 3 (ipykernel)",
   "language": "python",
   "name": "python3"
  },
  "language_info": {
   "codemirror_mode": {
    "name": "ipython",
    "version": 3
   },
   "file_extension": ".py",
   "mimetype": "text/x-python",
   "name": "python",
   "nbconvert_exporter": "python",
   "pygments_lexer": "ipython3",
   "version": "3.9.12"
  }
 },
 "nbformat": 4,
 "nbformat_minor": 5
}
